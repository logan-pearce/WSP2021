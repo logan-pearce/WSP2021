{
 "cells": [
  {
   "cell_type": "markdown",
   "metadata": {
    "colab_type": "text",
    "id": "SE_rVn6hXWsT"
   },
   "source": [
    "<font color='cornflowerblue' size=5>**Exoplanet orbits and habitability**</font>\n",
    "\n",
    "In this notebook we'll explore exoplanet habitability and finish up some stuff about orbits! \n",
    "\n",
    "Below, I've copied some useful code from previous notebooks, including the code to start simulations, create plots of orbits, explore stationary as well as time-evolving widgets, make animations, and to make gifs! \n",
    "\n",
    "You're welcome to use any of this code to explore the orbits of exoplanets that you have found on the Kepler database. In particular, you may want to find some exoplanet systems with numerous planets and compare them to our solar system! \n",
    "\n",
    "You can find the orbital properties in a couple different places: \n",
    "1. Yesterday we followed the steps from workbook 4_IntroToExoplanets to find exoplanets on [this database](https://archive.stsci.edu/kepler/confirmed_planets/search.php). \n",
    "\n",
    "2. You can also find planets on this [other database](http://exoplanet.eu/catalog/). Here, you can sort by detection method, confirmation status, and by any orbital property. You can enter the name of planets you found from the first database into this one as well, and enter them in the search box right above the table where it says \"Planet search.\" \n",
    "\n",
    "  On the resulting page, you should be able to find, at minimum, the planet mass (in Jupiter masses), the stellar mass (in solar masses), and the planetary semi-major axis. If the other parameters aren't listed, assume they are zero. If an inclination is listed in the catalog, the inclination you should use in your simulation in $90^{\\circ} - i_{\\textrm{catalog}}$  (the difference comes from observational vs. simulation-based definitions of inclinations). Use $f=0$ radians."
   ]
  },
  {
   "cell_type": "markdown",
   "metadata": {
    "colab_type": "text",
    "id": "GBwn7XuHbMaC"
   },
   "source": [
    "<font color='cornflowerblue' size=4>*Note: the following cells have some documentation at the beginning of each cell to explain what they do, however much of the line-by-line documentation has been removed. This is for 2 reasons: this line-by-line documentation exists in the previous notebooks that these cells were pulled from; it's important to learn the skills to document your code and to figure out how you like to build your code, and so these cells can be used to practice these skills!*</font>"
   ]
  },
  {
   "cell_type": "code",
   "execution_count": null,
   "metadata": {
    "colab": {
     "base_uri": "https://localhost:8080/",
     "height": 159
    },
    "colab_type": "code",
    "executionInfo": {
     "elapsed": 75452,
     "status": "ok",
     "timestamp": 1593119814935,
     "user": {
      "displayName": "Katie Chamberlain",
      "photoUrl": "",
      "userId": "02373325167538393139"
     },
     "user_tz": 420
    },
    "id": "MB5zBjAaXWsV",
    "outputId": "928fb81f-69f5-4494-9b34-f000e7d80d53"
   },
   "outputs": [],
   "source": [
    "import rebound\n",
    "import numpy as np\n",
    "import matplotlib.pyplot as plt\n",
    "import imageio # this is new! We're going to be saving our animations as gifs!\n",
    "\n",
    "# so we can make plots\n",
    "%matplotlib inline \n",
    "%run tools.ipynb # Some behind-the-scenes tools to simplify some complicated code\n"
   ]
  },
  {
   "cell_type": "code",
   "execution_count": null,
   "metadata": {
    "colab": {},
    "colab_type": "code",
    "id": "IGDZ6BztKssz"
   },
   "outputs": [],
   "source": [
    "# some definitions for the masses and semimajor axes of the planets in the solar system\n",
    "# In order to get masses in solar masses, just divide each one by the mass of the sun!\n",
    "# For example, the mass of Jupiter in solar masses is mass_Jupiter/mass_Sun.\n",
    "\n",
    "mass_Sun     = 1.989e30 # all in kg\n",
    "mass_Mercury = 3.285e23\n",
    "mass_Venus   = 4.867e24 # similar to the mass of the earth!\n",
    "mass_Earth   = 5.972e24\n",
    "mass_Mars    = 6.390e23\n",
    "mass_Jupiter = 1.898e27\n",
    "mass_Saturn  = 5.683e26\n",
    "mass_Uranus  = 8.681e25\n",
    "mass_Neptune = 1.024e26\n",
    "mass_Pluto   = 1.309e22 # not a planet, but still fun to plot!\n",
    "\n",
    "\n",
    "a_Mercury = 0.387 # all in AU\n",
    "a_Venus   = 0.723\n",
    "a_Earth   = 1\n",
    "a_Mars    = 1.523\n",
    "a_Jupiter = 5.205\n",
    "a_Saturn  = 9.582\n",
    "a_Uranus  = 19.2\n",
    "a_Neptune = 30.05\n",
    "a_Pluto   = 39.48"
   ]
  },
  {
   "cell_type": "code",
   "execution_count": null,
   "metadata": {
    "colab": {},
    "colab_type": "code",
    "id": "Hd-qxfz8KTQE"
   },
   "outputs": [],
   "source": [
    "def start_new_sim(star_mass): \n",
    "    ''' \n",
    "    We have to give our function a unique name, \n",
    "    and we can pass parameters to it \n",
    "    '''\n",
    "    sim = rebound.Simulation()\n",
    "    sim.G = 4.*np.pi**2.\n",
    "    sim.units = ('yr', 'AU', 'Msun')\n",
    "    sim.add(m=star_mass)  # Here, we use the variables we passed to the definition to initialize our star\n",
    "    return sim # We always need to return from our definition; here, we want to pass back our simulation"
   ]
  },
  {
   "cell_type": "code",
   "execution_count": null,
   "metadata": {
    "colab": {
     "base_uri": "https://localhost:8080/",
     "height": 501
    },
    "colab_type": "code",
    "executionInfo": {
     "elapsed": 542,
     "status": "ok",
     "timestamp": 1593134187061,
     "user": {
      "displayName": "Katie Chamberlain",
      "photoUrl": "",
      "userId": "02373325167538393139"
     },
     "user_tz": 420
    },
    "id": "JSiLQtWYMByi",
    "outputId": "3354375b-5d86-4547-a191-7a07d25b684b"
   },
   "outputs": [],
   "source": [
    "##############################################\n",
    "# This code creates a stationary plot of the # \n",
    "# orbit of the planet at the present time    #\n",
    "# ------------------------------------------ #\n",
    "# This code starts a new simulation with a   #\n",
    "# one solar mass star, then adds a planet    #\n",
    "# and makes a plot of the resulting orbit.   #\n",
    "##############################################\n",
    "sim = start_new_sim(1) \n",
    "sim.add(m=mass_Mars/mass_Sun, a=a_Mars, inc = 0)\n",
    "sim.move_to_com()\n",
    "fig, ax = rebound.OrbitPlot(sim, figsize=(8,8),  unitlabel=\"(AU)\", color=True)\n",
    "ax.set_xlim(-4,4)\n",
    "ax.set_ylim(-4,4)\n",
    "plt.show()\n"
   ]
  },
  {
   "cell_type": "code",
   "execution_count": null,
   "metadata": {
    "colab": {
     "base_uri": "https://localhost:8080/",
     "height": 17,
     "referenced_widgets": [
      "04cfab8d8a3c4f78bc7a3722ff318cc1",
      "9bf8c708e14b4733902a7ee6abf23cda"
     ]
    },
    "colab_type": "code",
    "executionInfo": {
     "elapsed": 408,
     "status": "ok",
     "timestamp": 1593134190310,
     "user": {
      "displayName": "Katie Chamberlain",
      "photoUrl": "",
      "userId": "02373325167538393139"
     },
     "user_tz": 420
    },
    "id": "6i6pX12dMHZZ",
    "outputId": "1663067b-cd40-40a6-85fc-061c3458d7c9"
   },
   "outputs": [],
   "source": [
    "##############################################\n",
    "# This code creates a moveable widget of the # \n",
    "# orbit of the planet at the present time    #\n",
    "# ------------------------------------------ #\n",
    "# This code starts a new simulation with a   #\n",
    "# one solar mass star, then adds a planet    #\n",
    "# and makes a widget of the resulting orbit  #\n",
    "##############################################\n",
    "\n",
    "# Notes: \n",
    "# size is the displayed size of the widget in pixels\n",
    "# scale sets the volume of space depicted\n",
    "\n",
    "sim = start_new_sim(1) \n",
    "sim.add(m=mass_Mars/mass_Sun, a=a_Mars, inc = 0)\n",
    "sim.move_to_com()\n",
    "sim.getWidget(scale=3,size=(500,500)) \n"
   ]
  },
  {
   "cell_type": "code",
   "execution_count": null,
   "metadata": {
    "colab": {},
    "colab_type": "code",
    "id": "1zgqPSk0MqIV"
   },
   "outputs": [],
   "source": [
    "##############################################\n",
    "# This code creates a moveable widget of the # \n",
    "# orbit of the planet over time              #\n",
    "# ------------------------------------------ #\n",
    "# This code starts a new simulation with a   #\n",
    "# one solar mass star, then adds a planet    #\n",
    "# and makes a widget of the resulting orbit  #\n",
    "# from t=0 through t=t_final                 #\n",
    "##############################################\n",
    "\n",
    "# Notes: \n",
    "# the final input in the integrate_with_widget function specifies the scale\n",
    "# for example, to properly display the orbit of the outer planets, this should \n",
    "# be changed to >~22\n",
    "\n",
    "t_final = 5\n",
    "N_frames = 200\n",
    "sim = start_new_sim(1.)\n",
    "sim.add(m=mass_Mars/mass_Sun, a=a_Mars, inc = 0)\n",
    "sim.move_to_com()\n",
    "integrate_with_widget(sim, t_final, N_frames, 3)\n"
   ]
  },
  {
   "cell_type": "code",
   "execution_count": null,
   "metadata": {
    "colab": {},
    "colab_type": "code",
    "id": "vYSG5s-SY05M"
   },
   "outputs": [],
   "source": [
    "##############################################\n",
    "# This code creates a moveable widget of the # \n",
    "# orbit of solar system objects over time    #\n",
    "# ------------------------------------------ #\n",
    "# This code starts a new simulation with a   #\n",
    "# one solar mass star, then adds the inner   #\n",
    "# and outer planets, pluto, and the asteroid #\n",
    "# asbolos, then creates a widget of the      #\n",
    "# resulting orbit from t=0 through t=t_final #\n",
    "##############################################\n",
    "\n",
    "t_final = 5\n",
    "N_frames = 200\n",
    "sim = start_new_sim(1.)\n",
    "addInnerPlanets(sim)\n",
    "addOuterPlanets(sim)\n",
    "addPluto(sim)\n",
    "addAsbolus(sim)\n",
    "sim.move_to_com()\n",
    "integrate_with_widget(sim, t_final, N_frames, 22)\n"
   ]
  },
  {
   "cell_type": "code",
   "execution_count": null,
   "metadata": {
    "colab": {},
    "colab_type": "code",
    "id": "ioxaTQ-VZ-4f"
   },
   "outputs": [],
   "source": [
    "%%capture \n",
    "\n",
    "##############################################\n",
    "# This code creates an animation of the      # \n",
    "# orbits of solar system objects over time   #\n",
    "# ------------------------------------------ #\n",
    "# This code starts a new simulation with a   #\n",
    "# one solar mass star, then adds the inner   #\n",
    "# and outer planets, pluto, and the asteroid #\n",
    "# asbolos, then creates many stationary      #\n",
    "# plots of the orbits, then combines them    #\n",
    "# into a single animation                    #\n",
    "##############################################\n",
    "\n",
    "dt = 1\n",
    "N_steps = 20\n",
    "sim = start_new_sim(1)\n",
    "addInnerPlanets(sim)\n",
    "addOuterPlanets(sim)\n",
    "addPluto(sim)\n",
    "addAsbolus(sim)\n",
    "sim.move_to_com()\n",
    "fig,ax = plt.subplots(1,1,figsize=(5,5))\n",
    "frames = []\n",
    "for i in range(N_steps):\n",
    "    new_time = sim.t+dt\n",
    "    sim.integrate(new_time)\n",
    "    frames.append(make_rebound_frame(ax,sim))\n",
    "ani = animation.ArtistAnimation(fig, frames)\n",
    "display(ani)"
   ]
  },
  {
   "cell_type": "code",
   "execution_count": null,
   "metadata": {},
   "outputs": [],
   "source": [
    "ani"
   ]
  },
  {
   "cell_type": "code",
   "execution_count": null,
   "metadata": {
    "colab": {},
    "colab_type": "code",
    "id": "CvCHiPNwap-s"
   },
   "outputs": [],
   "source": [
    "%%capture\n",
    "\n",
    "##############################################\n",
    "# This code creates a gif of the orbits of   # \n",
    "# solar system objects over time             #\n",
    "# ------------------------------------------ #\n",
    "# This code starts a new simulation with a   #\n",
    "# one solar mass star, then adds the inner   #\n",
    "# and outer planets, pluto, and the asteroid #\n",
    "# asbolos, then creates and saves a series   #\n",
    "# of plots at specified time steps as pngs   # \n",
    "# which are then combined into a single gif  #\n",
    "##############################################\n",
    "\n",
    "dt = 1 \n",
    "N_steps = 100 \n",
    "\n",
    "sim = start_new_sim(1) \n",
    "addInnerPlanets(sim)\n",
    "addOuterPlanets(sim)\n",
    "addPluto(sim)\n",
    "addAsbolus(sim)\n",
    "sim.move_to_com()\n",
    "for i in range(N_steps):\n",
    "    new_time = sim.t+dt # The time we want to integrate to\n",
    "    sim.integrate(new_time) # And integrate!\n",
    "    rebound.OrbitPlot(sim, unitlabel=\"(AU)\", color=True)\n",
    "    plt.savefig('figs/step_'+str(i)+'.png')\n",
    "images = []\n",
    "filenames = ['figs/step_'+str(i)+'.png' for i in range(N_steps)]\n",
    "for filename in filenames:\n",
    "    images.append(imageio.imread(filename))\n",
    "imageio.mimsave('movie.gif', images)\n"
   ]
  },
  {
   "cell_type": "markdown",
   "metadata": {
    "colab_type": "text",
    "id": "2-SlTQbfcsMA"
   },
   "source": [
    "___"
   ]
  },
  {
   "cell_type": "markdown",
   "metadata": {
    "colab_type": "text",
    "id": "KjWCunDwaRmg"
   },
   "source": [
    "<font color='cornflowerblue' size=6>**Life on other planets**</font>\n",
    "\n",
    "<font color='cornflowerblue' size=5>Planetary Habitability - Are we alone?</font>\n",
    "\n",
    "In the rest of the notebook, we'll be discussing planetary habitability, and how to apply everything we've studied so far. \n",
    "\n",
    "Planetary habitability is a popular topic for people from kids to scifi writers to astronomers! There are many fields of astronomy devoted to approaching this question from a scientific perspective. For example, astrobiolgists study the conditions that are necessary for life to develop on exoplanets, and what kinds of evidence alien life might leave in their planet's environment that we could detect from Earth. \n",
    "\n",
    "NASA has missions planned to places like Europa, a moon of Jupiter, and Encealedus, a moon of Saturn, that both have subsurface oceans. Scientists believe that these moons are promising locations for microbial life! Researchers in the Search for Extraterrestrial Intelligence (SETI) have spent many years thinking about what kinds of signals we might see from advanced civilizations in other star systems, if there are any such civilizations at all. \n",
    "\n",
    "<font color='salmon'>Extrasolar life is not just a science fiction tale, but is a serious scientific discipline!</font>"
   ]
  },
  {
   "cell_type": "markdown",
   "metadata": {
    "colab_type": "text",
    "id": "E6UC-_YuaW4K"
   },
   "source": [
    "<font color='cornflowerblue'>What are some important conditions and requirements for life to form on a planet? Spend a few minutes and come up with a few things. </font>\n",
    "\n",
    "<br><br><br>\n",
    "<br><br><br>\n",
    "\n",
    "\n",
    "<font color='cornflowerblue'>Knowing what we know now about exoplanets, their stars, and their orbits, what factors have we studied that might influence their habitability?</font>\n",
    "<br><br><br>\n",
    "<br><br><br>\n",
    "\n",
    "\n",
    "\n",
    "Throughout the course of this research project, we have been studying different types of orbital systems, and finding planets in the *Kepler Space Telescope*'s database! Think of some of the planets you studied in this research project. <font color='cornflowerblue'>Would any of them be a good candidate for hosting extrasolar life?  Why or why not?  Try to come up with at least 3 factors about your planets that make them a good candidate or a bad one, or a little of both.</font>\n",
    "\n",
    "<br><br><br>\n",
    "<br><br><br>\n",
    "\n",
    "\n",
    " If these advanced civilizations don't exist, <font color='cornflowerblue'>is there still value in continuing the search for extraterrestrial life?</font>\n",
    " <br><br><br>\n",
    "<br><br><br>\n"
   ]
  },
  {
   "cell_type": "markdown",
   "metadata": {
    "colab_type": "text",
    "id": "0Kl-OfaXe3Ul"
   },
   "source": [
    "<font color='cornflowerblue' size=5>Is there anybody out there?</font>\n",
    "\n",
    "Searching for advanced civilizations is pointless if we don't think there are any of them out there to find! What if we wanted to estimate the number of advanced civilizations that might be out there? <font color='cornflowerblue'>What factors should we consider when trying to estimate the number of advanced civilizations?</font>\n",
    "\n",
    "<br><br><br>\n",
    "<br><br><br>\n"
   ]
  },
  {
   "cell_type": "markdown",
   "metadata": {
    "colab_type": "text",
    "id": "oNNxrMPFhVRN"
   },
   "source": [
    "<font color='cornflowerblue' size=5>Where is everyone? a.k.a the **Fermi Paradox**</font>\n",
    "\n",
    "The Earth is relatively young compared to the age of the Universe, and even compared to a large fraction of the stars in our galaxy. There are billions of stars in our galaxy, and many of those stars are likely to have their own solar systems. Some of those planets will be Earth-like and habitable! And it is likely that intelligent life began forming on some of these planets long before the Earth had even formed, and thus that intelligent life would have developed interstellar travel and communitcation in the meantime. \n",
    "\n",
    "Thus, it seems inconceivable that intelligent life has not yet visited Earth, or at least has been sending out signals that should be detectable on Earth, and yet we see no convincing evidence of intelligent life having visited Earth or existing in other regions of the galaxy! \n",
    "This is called the Fermi Paradox! \n",
    "\n",
    "\n",
    "<br><br><br>\n",
    "<br><br><br>\n",
    "\n",
    "In order to add some context to this puzzling paradox, Frank Drake (a Navy vet and astronomer who helped co-found SETI) developed the '**Drake equation**' which estimates the number of intelligent civilizations that should exist in our galaxy. This equation is shown in the image below:\n",
    "\n",
    "\n",
    "<br><br>\n",
    "\n",
    "![missing](images/drakeEquation.jpg)\n",
    "<sup>Image Credit: the SETI Institute</sup>"
   ]
  },
  {
   "cell_type": "markdown",
   "metadata": {
    "colab_type": "text",
    "id": "L7OkgDuIjgKT"
   },
   "source": [
    "Let's take a minute to read and discuss each of the factors in the Drake equation and what aspects of habitability each factor seems to capture.  \n",
    "<font color='cornflowerblue'>Are you surprised by any of the factors that enter this equation? Does it seem complete to you? Is there anything that you think Drake left out of his eponymous equation? </font>\n",
    "<br><br><br>\n",
    "<br><br><br>\n"
   ]
  },
  {
   "cell_type": "markdown",
   "metadata": {
    "colab_type": "text",
    "id": "Egs9QVSamPTd"
   },
   "source": [
    "<font color='cornflowerblue' size=5>This is still an active area of research!</font>\n",
    "\n",
    "[This article](https://www.seti.org/how-many-alien-societies-are-there) summarizes research published only last week by authors trying to grapple with the last term in the Drake Equation - the length of time a civilization would survive and communicate.  They make some striking assumptions, and come to a very very low estimate for ET civilizations.  What do you think?\n",
    "\n",
    "\n",
    "<br/><br/><br/>\n",
    "<br/><br/><br/>\n"
   ]
  },
  {
   "cell_type": "markdown",
   "metadata": {
    "colab_type": "text",
    "id": "swLjsY_Em0IM"
   },
   "source": [
    "What important here is that: <font color='salmon'>*we do not know for sure the value of any of the terms that appear in the Drake equation!*</font> We're making a lot of progress on terms like $R_*$ (the average rate of star formation per year in our galaxy) and $f_p$ (the fraction of stars with planets), but many others remain incredibly hard to try to pin down.  \n",
    "\n",
    "<br/><br/><br/>\n",
    "<br/><br/><br/>"
   ]
  },
  {
   "cell_type": "markdown",
   "metadata": {
    "colab_type": "text",
    "id": "eYyqZ60Zo6fS"
   },
   "source": [
    "<font color='cornflowerblue' size=5>Going further</font>"
   ]
  },
  {
   "cell_type": "markdown",
   "metadata": {
    "colab_type": "text",
    "id": "6rr9JveNo9KV"
   },
   "source": [
    "Did you know that citizens can participate in extremely valuable research endeavors right now through 'citizen science'? If you enjoy thinking about exoplanets, extraterrestrial life, or even gravitational waves and weird looking galaxies, you can participate in these citizen science effors at home! \n",
    "\n",
    "The Planet Hunters project uses citizen scientists to help search through all of light curves from the transiting planet satellite TESS to identify potentially interesting signals that astronomers can follow up on. This is something you have *already done* during this research project! Planet Hunters have made many exciting discoveries, including the identification of the enigmatic \"Boyajian's Star\" which shows periodic fluctuations in brightness by about 25%! Logan Pearce is currently writing a paper about this star! \n",
    "\n",
    "If you'd like to get involved yourself, you can check out Planet Hunters [here](https://www.zooniverse.org/projects/nora-dot-eisner/planet-hunters-tess)!\n",
    "\n",
    "<br/><br/><br/>\n",
    "<br/><br/><br/>"
   ]
  },
  {
   "cell_type": "markdown",
   "metadata": {
    "colab_type": "text",
    "id": "QsqaGkizp3iu"
   },
   "source": [
    "If planet hunting isn't quite your jam, there are <font color='cornflowerblue'>*many*</font> other citizen scientist projects on the `Zooniverse` website, spanning *all* disciplines of academia, including biology, climate, social science, even history and art.  CHECK IT OUT!\n",
    "\n",
    "https://www.zooniverse.org/projects\n",
    "\n"
   ]
  },
  {
   "cell_type": "markdown",
   "metadata": {
    "colab_type": "text",
    "id": "Al3afZQes_5Z"
   },
   "source": [
    "<sup> Notebook written by [Katie Chamberlain](katiechambe.github.io) in 2019-20 and extended by Logan Pearce in 2020. </sup>  "
   ]
  }
 ],
 "metadata": {
  "colab": {
   "collapsed_sections": [],
   "name": "6_ExoplanetOrbits.ipynb",
   "provenance": []
  },
  "kernelspec": {
   "display_name": "Python 3",
   "language": "python",
   "name": "python3"
  },
  "language_info": {
   "codemirror_mode": {
    "name": "ipython",
    "version": 3
   },
   "file_extension": ".py",
   "mimetype": "text/x-python",
   "name": "python",
   "nbconvert_exporter": "python",
   "pygments_lexer": "ipython3",
   "version": "3.8.5"
  },
  "toc": {
   "base_numbering": 1,
   "nav_menu": {},
   "number_sections": true,
   "sideBar": true,
   "skip_h1_title": false,
   "title_cell": "Table of Contents",
   "title_sidebar": "Contents",
   "toc_cell": false,
   "toc_position": {},
   "toc_section_display": true,
   "toc_window_display": false
  },
  "widgets": {
   "application/vnd.jupyter.widget-state+json": {
    "04cfab8d8a3c4f78bc7a3722ff318cc1": {
     "model_module": "@jupyter-widgets/base",
     "model_name": "DOMWidgetModel",
     "state": {
      "N": 2,
      "_dom_classes": [],
      "_model_module": "@jupyter-widgets/base",
      "_model_module_version": "1.2.0",
      "_model_name": "DOMWidgetModel",
      "_view_count": null,
      "_view_module": "rebound",
      "_view_module_version": "",
      "_view_name": "ReboundView",
      "count": 2,
      "height": 500,
      "layout": "IPY_MODEL_9bf8c708e14b4733902a7ee6abf23cda",
      "orbits": true,
      "orientation": [
       0,
       0,
       0,
       1
      ],
      "overlay": "REBOUND (ias15), N=2, t=0",
      "scale": 3,
      "screenshot": "",
      "screenshotcount": 0,
      "t": 0,
      "width": 500
     }
    },
    "9bf8c708e14b4733902a7ee6abf23cda": {
     "model_module": "@jupyter-widgets/base",
     "model_name": "LayoutModel",
     "state": {
      "_model_module": "@jupyter-widgets/base",
      "_model_module_version": "1.2.0",
      "_model_name": "LayoutModel",
      "_view_count": null,
      "_view_module": "@jupyter-widgets/base",
      "_view_module_version": "1.2.0",
      "_view_name": "LayoutView",
      "align_content": null,
      "align_items": null,
      "align_self": null,
      "border": null,
      "bottom": null,
      "display": null,
      "flex": null,
      "flex_flow": null,
      "grid_area": null,
      "grid_auto_columns": null,
      "grid_auto_flow": null,
      "grid_auto_rows": null,
      "grid_column": null,
      "grid_gap": null,
      "grid_row": null,
      "grid_template_areas": null,
      "grid_template_columns": null,
      "grid_template_rows": null,
      "height": null,
      "justify_content": null,
      "justify_items": null,
      "left": null,
      "margin": null,
      "max_height": null,
      "max_width": null,
      "min_height": null,
      "min_width": null,
      "object_fit": null,
      "object_position": null,
      "order": null,
      "overflow": null,
      "overflow_x": null,
      "overflow_y": null,
      "padding": null,
      "right": null,
      "top": null,
      "visibility": null,
      "width": null
     }
    }
   }
  }
 },
 "nbformat": 4,
 "nbformat_minor": 1
}
