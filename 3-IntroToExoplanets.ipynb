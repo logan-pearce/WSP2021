{
 "cells": [
  {
   "cell_type": "markdown",
   "metadata": {
    "id": "vDR6Dp41IHjO"
   },
   "source": [
    "<font color='cornflowerblue' size=5>**Introduction to Exoplanets:**</font>\n",
    "\n",
    "What are exoplanets? **Extrasolar planets**, or exoplanets, are planets that orbit stars that are external to our own solar system! The study of exoplanets covers a wide range of topics, including: how do planetary systems form? what do the atmospheres of exoplanets look like? do exoplanets have clouds? how do the properties of different exoplanet systems impact their detectability? and so many others! \n",
    "\n",
    "In this notebook, we will be learning about some exoplanet detection methods, and talking in more detail about one specific method, the transit method. \n",
    "\n",
    "But first, <font color='cornflowerblue'>how many exoplanets do you think have been discovered?</font>\n",
    "<br/><br/>\n",
    "<br/><br/>\n",
    "<br/><br/>\n",
    "<br/><br/>\n",
    "<br/><br/>\n",
    "<br/><br/>\n",
    "<br/><br/>\n",
    "<br/><br/>\n",
    "\n",
    "\n",
    "\n",
    "\n",
    "A resource for good visual depictions of the different exoplanet detection methods can be found [here](https://exoplanets.nasa.gov/alien-worlds/ways-to-find-a-planet/#). Though we will focus on the transit method in this notebook, we'll start by covering 4 other methods. \n"
   ]
  },
  {
   "cell_type": "markdown",
   "metadata": {
    "id": "lLnzUebWbI_F"
   },
   "source": [
    "<font color='cornflowerblue' size=4>Method 1: </font>\n",
    "The first exoplanet detection method is direct imaging. This method involves using large telescopes to take an image of the planets as they are in orbit around their stars. \n",
    "\n",
    "This is really *really* hard to do though! *Can you think of a couple reasons why taking pictures of planets might be challenging?*\n",
    "\n",
    "<br/><br/>\n",
    "<br/><br/>\n",
    "<br/><br/>\n",
    "\n"
   ]
  },
  {
   "cell_type": "markdown",
   "metadata": {
    "id": "AJgepzrMbJIy"
   },
   "source": [
    "<font color='cornflowerblue' size=4>Method 2: </font>\n",
    "Another exoplanet detection method is the radial velocity method. When planets orbit around their stars, the stars get pulled around by the gravitational influence of the planet, the same way the planet is gravitationally attracted to the star! When stars move around, the color of the light that we detect from the star will change in a repeated way. This is called redshifting (when the star is moving away from us) and blueshifting (when the star is moving towards us)! \n",
    "\n",
    "*What properties of the exoplanet system might make this detection method easier or harder for different systems?*\n",
    "\n",
    "<br/><br/>\n",
    "<br/><br/>\n",
    "<br/><br/>\n"
   ]
  },
  {
   "cell_type": "markdown",
   "metadata": {
    "id": "j2A8lgxXdiKu"
   },
   "source": [
    "<font color='cornflowerblue' size=4>Method 3: </font>\n",
    "Astrometry is a detection method that is similar to the radial velocity method, in that the planet will have a gravitational influence on the star that causes the star to wobble around! Rather than observing this effect in the color of the light that we detect, we see this by comparing images of the same star, and seeing if they have moved! This is quite hard to do! Only ONE exoplanet has been discovered using this method! \n",
    "\n",
    "*Can you think of any reason why tracking the motions of these stars for signs of an exoplanet might be hard?*\n",
    "<br/><br/>\n",
    "<br/><br/>\n",
    "<br/><br/>"
   ]
  },
  {
   "cell_type": "markdown",
   "metadata": {
    "id": "uW4QV2fCdh_-"
   },
   "source": [
    "<font color='cornflowerblue' size=4>Method 4: </font>\n",
    "Gravitational microlensing uses light from bright background objects (like distant stars) to find planetary systems, and also \"rogue\" planets. When planets (and their stars) pass between the bright object and the Earth, some of the light from the background object gets bent towards the Earth. This focusing of light makes the background object look temporarily brighter, and after seeing these brief flashes, astronomers can use the observations of the event to determine the size of the star! \n",
    "<br/><br/>\n",
    "<br/><br/>\n",
    "<br/><br/>\n"
   ]
  },
  {
   "cell_type": "markdown",
   "metadata": {
    "id": "1CjZ_0EYGQyB"
   },
   "source": [
    "___"
   ]
  },
  {
   "cell_type": "markdown",
   "metadata": {
    "id": "Xx-c_RDZhzwu"
   },
   "source": [
    "<font color='cornflowerblue' size=5>The Transit Method</font> \n",
    "Method 5: This detection method is responsible for a large majority of exoplanet detections. Over 3/4 of exoplants have been discovered with this method!"
   ]
  },
  {
   "cell_type": "markdown",
   "metadata": {
    "id": "r8luvzxaIHjT"
   },
   "source": [
    "<font color='cornflowerblue'>What are they, and what can we learn?</font>"
   ]
  },
  {
   "cell_type": "markdown",
   "metadata": {
    "id": "KosLKEO5IHjU"
   },
   "source": [
    "A transit is defined as the passage of one object in front of another, partially blocking it from view. \n",
    "\n",
    "This type of event occurs in our solar system! The transits of Mercury and Venus occur when the planet passes between the Sun and Earth, blocking a small portion of the Sun's light! Mercury completes a transit approximately every seven years! Below is a composit image of the transit of Mercury on May 9, 2016.\n",
    "<img src=\"https://drive.google.com/uc?id=1e6hgot0H3YNqTjQ6n6TGHiW73fteJ3FY\" alt=\"HAT-P-32\" style=\"width: 800px;\"/>\n",
    "\n",
    "<sub>Credit: NASA's Goddard Space Flight Center/SDO/Genna Duberstein</sub>\n",
    "\n",
    "Another type of transit that is observable from Earth are transits of exoplanets in front of their host stars. When exoplanets pass in front of their host stars, they block a small amount of the light that is being emitted from the star from reaching the Earth! This causes the star to appear to dim slightly. \n",
    "\n",
    "This dimming occurs every time that the planet orbits around the star. Thus, the star appears to dim once after every orbital period!\n",
    "\n",
    "Transits are detected by measuring the amount of light we see from a star at many different times. We make plots of the brightness of the star as a function of time, which is known as a light curve, and can hunt for planets with them! "
   ]
  },
  {
   "cell_type": "markdown",
   "metadata": {
    "id": "ZSudgRxAIHjW"
   },
   "source": [
    "<font color='cornflowerblue'> What do you think a plot of the brightness of a star versus time looks like for a star with transiting planet?</font>\n",
    "\n",
    "<br/><br/>\n",
    "<br/><br/>\n",
    "<br/><br/>\n",
    "<br/><br/>\n",
    "<br/><br/>\n",
    "\n"
   ]
  },
  {
   "cell_type": "markdown",
   "metadata": {
    "id": "FG7W-pqCIHjX"
   },
   "source": [
    "Below is a visualization of an exoplanet transit. Note how the brightness of the star dips as the planet passes in front of it, reaching its minimum when the planet is fully in front of the star.\n",
    "\n",
    "<img src=\"https://drive.google.com/uc?id=1Ql2_8ZWm-pZqQT5q_w53PrmrtPjbJjvS\" alt=\"HAT-P-32\" style=\"width: 800px;\"/>"
   ]
  },
  {
   "cell_type": "markdown",
   "metadata": {
    "id": "JD-NslYVOLQU"
   },
   "source": [
    "If we watched this star over the course of many planetary orbits, we would see many dips in the stars brightness, like we see below! \n",
    "\n",
    "<img src=\"https://drive.google.com/uc?id=1ZJMu3If1W_45rSuYy22U_FMQ7GOhpvNE\" alt=\"HAT-P-32\" style=\"width: 800px;\"/>"
   ]
  },
  {
   "cell_type": "markdown",
   "metadata": {
    "id": "VCbWos5fOEPC"
   },
   "source": [
    "Light curves of stars with transiting exoplanets contain a TON of information about the star and the planet! <font color='cornflowerblue'>What types of information do you think can be determined from analysing the star's light curve? *Hint: look at the light curve in the gif above and consider what information the transit depth and separation between dips might tell you.*</font>\n",
    "<br/><br/>\n",
    "<br/><br/>\n",
    "<br/><br/>\n",
    "<br/><br/>"
   ]
  },
  {
   "cell_type": "markdown",
   "metadata": {
    "id": "IaIHh2xKIHje"
   },
   "source": [
    "Imagine there are two identical planets orbiting around two identical stars. One planet's orbital period is twice as long as the other. <font color='cornflowerblue'>How would the light curves look different for each of these systems? How would they look the same?</font>\n",
    "\n",
    "\n",
    "<br/><br/>\n",
    "<br/><br/>\n",
    "<br/><br/>\n",
    "<br/><br/>\n",
    "<br/><br/>"
   ]
  },
  {
   "cell_type": "markdown",
   "metadata": {
    "id": "0rhfHlWsIHjg"
   },
   "source": [
    "Imagine that there are two planets, each orbiting around an identical star. This time, the planets have the same orbital period, but one planet is twice as large as the other. <font color='cornflowerblue'>What is the same about each light curve? What is different?</font>\n",
    "\n",
    "<br/><br/>\n",
    "<br/><br/>\n",
    "<br/><br/>\n",
    "<br/><br/>\n",
    "<br/><br/>"
   ]
  },
  {
   "cell_type": "markdown",
   "metadata": {
    "id": "ABUA4YmSIHjh"
   },
   "source": [
    "Let's take a look at an exoplanet transit simulator that you can find [here](https://ccnmtl.github.io/astro-simulations/exoplanet-transit-simulator/).\n",
    "\n",
    "We can play around with this transit simulator for a while and see how different orbital parameters, planet properties, and star properties, affect the light curves! \n",
    "\n",
    "*Note: Flux is the total energy emitted by the star that reaches each unit area of a detector (such as your eyes) every second. Normalized flux means that the flux received from the star has been multiplied by some factor so that the maximum flux (the flux from the star it is not being transited by the planet) is equal to 1. You can think of the y-axis as a fraction telling you how much of the star’s total flux is reaching the Earth at a given moment in time.*\n",
    "\n",
    "<br/><br/>\n",
    "<br/><br/>\n",
    "<br/><br/>\n",
    "<br/><br/>"
   ]
  },
  {
   "cell_type": "markdown",
   "metadata": {
    "id": "0qvX8qrDIHjk"
   },
   "source": [
    "___"
   ]
  },
  {
   "cell_type": "markdown",
   "metadata": {
    "id": "j7hGoTKkIHjm"
   },
   "source": [
    "<font color='cornflowerblue' size = 5>Analyzing Light Curves</font>"
   ]
  },
  {
   "cell_type": "markdown",
   "metadata": {
    "id": "XJyndqSxIHjo"
   },
   "source": [
    "<font color='cornflowerblue'>Planet and stellar radius</font>\n",
    "\n",
    "Using the transit simulator, we saw that the change in the brightness of a star while an exoplanet transit is occuring is directly related to the size of the planet relative to the size of the star. \n",
    "\n",
    "In terms of the measured values, this is written as:\n",
    "$$\\frac{\\Delta F}{F}  = \\frac{R_{p}^2}{R_{*}^2} $$ \n",
    "where $\\Delta F$ is the change in the flux, $F$ is the total flux when the transit is not occuring, and $R_p, R_*$ are the radius of the planet and the star respectively.\n",
    "\n",
    "When a planet transits a star, the amount of light that is blocked out is propoertional to the area of the circle of light that is blocked (in this case a circle with radius $R_p$). The total flux is proportional to the area of the star (a circle with radius $R_*$), which is how we arrived at the equation above! \n",
    "<br/><br/>\n",
    "<br/><br/>"
   ]
  },
  {
   "cell_type": "markdown",
   "metadata": {
    "id": "G_WsUozHIHjo"
   },
   "source": [
    "<font color='cornflowerblue'> Orbital period and semi-major axis</font>\n",
    "\n",
    "The orbital period of the planet can be determined using the separation between transits as seen on a light curve. Kepler's third law of planetary motion states that the orbital period is related to the star's semi-major axis, and thus we can determine how far away the planet is from it's host star just by measuring the orbital period!\n",
    "\n",
    "A planet that is very close to its star with have a very small orbital period. This relationship is given by the following espression:\n",
    "$$P^2  = \\frac{4 \\pi^2 a^3}{G M_*}$$\n",
    "\n",
    "where $G$ is the gravitational constant, $M_*$ is the mass of the star, and $a$ is the semi-major axis of the planet.\n",
    "\n",
    "<br/><br/>\n",
    "We can solve this equation for the semimajor axis, and we get $$a=(M_* P^2)^{\\frac{1}{3}}.$$ *Note: this looks more simple than above because $G\\approx 4\\pi^2$ in this simulation.*\n",
    "<br/><br/>\n",
    "<br/><br/>\n",
    "<br/><br/>\n",
    "<br/><br/>"
   ]
  },
  {
   "cell_type": "markdown",
   "metadata": {
    "id": "eMub890RaSMd"
   },
   "source": [
    "<font color='cornflowerblue' size = 4> Your turn:</font>\n",
    "\n",
    "Here is a plot of the light from the star HAT-P-32 (great name ammirite?) over time (grey), with a clear planet transit due to the planet HAT-P-32 b (marked by blue points and red line).  \n",
    "\n",
    "<img src=\"https://drive.google.com/uc?id=1a2tNoD4Wm6LOHY1s3RE73TgvGzj0L3xn\" alt=\"HAT-P-32\" style=\"width: 800px;\"/>\n",
    "\n",
    "\n",
    "HAT-P-32 is a star that's slightly brighter than our sun, and has a radius of 1.24 solar radii, and a mass of 1.25 solar masses.\n",
    "\n",
    "***What is the radius of HAT-P-32 b?***<br>\n",
    "Hint: 1 solar radius = 9.7 Jupiter radii = 110 Earth radii\n"
   ]
  },
  {
   "cell_type": "code",
   "execution_count": null,
   "metadata": {
    "id": "ZcO0paN_aSMd"
   },
   "outputs": [],
   "source": [
    "# Total flux when not transiting:\n",
    "F = \n",
    "# Change in flux during transit:\n",
    "delta_F = \n",
    "# Star's radius:\n",
    "R_star = \n",
    "\n",
    "# Compute planet's radius\n",
    "R_planet =      #write the equation here\n",
    "\n",
    "print(R_planet)"
   ]
  },
  {
   "cell_type": "markdown",
   "metadata": {
    "id": "CNXOhcwwJuB9"
   },
   "source": [
    "___"
   ]
  },
  {
   "cell_type": "markdown",
   "metadata": {
    "id": "4GMInlctIHj4"
   },
   "source": [
    "<font color='cornflowerblue' size=5>Find the planet?</font>\n",
    "\n",
    "The figure below was taken from a recent publication by [Crossfield et al. (2017)](http://iopscience.iop.org/article/10.3847/1538-3881/aa6e01/pdf ) in the Astronomical Journal.  Can you find the planet? Do you see anything else? If so, what do you think this implies?  \n",
    "<br><br><br><br><br><br>\n",
    "\n",
    "<img src=\"https://drive.google.com/uc?id=1DSYhUBS3SPR58PiIBr5P6hQ9RYWcCBtr\" alt=\"lightcurve3\" style=\"width: 800px;\"/>\n",
    "\n",
    "\n",
    "<br/><br/>\n",
    "<br/><br/>\n",
    "<br/><br/>\n",
    "<br/><br/>\n",
    "<br/><br/>\n",
    "<br/><br/>\n",
    "<br/><br/>\n",
    "<br/><br/>\n",
    "It turns out...\n",
    "<br/><br/>\n",
    "<br/><br/>\n",
    "<br/><br/>\n",
    "<br/><br/>\n",
    "<br/><br/>\n",
    "<br/><br/>\n",
    "<br/><br/>\n",
    "<br/><br/>\n",
    "<img src=\"https://drive.google.com/uc?id=1M1kFG-u0vtHdZ-NVaFR1dl8jeH2C_k5D\" alt=\"lightcurve4\" style=\"width: 800px;\"/>\n",
    "<br><br><br><br><br>\n",
    "Surprise! There are actually *two* planets orbiting this star! The vertical ticks show the location of each planet’s transit. Multiple planet systems are surprisingly common in Kepler data. These systems tend to be compact and close to their host star, with planets less massive than Jupiter, leading to stable orbits, rendering them easier for Kepler to detect.  \n",
    "<br/><br/>\n",
    "<br/><br/>\n"
   ]
  },
  {
   "cell_type": "markdown",
   "metadata": {
    "id": "8xYM3oEiaSMe"
   },
   "source": [
    "***What is the semi-major axis of Both planets in this system?***<br>\n",
    "Hint: pay attention to the UNIT of time.  BJD stands for Barycentric Julian Days, and 1 BJD = 1 day<br>\n",
    "What does it need to be in??"
   ]
  },
  {
   "cell_type": "code",
   "execution_count": null,
   "metadata": {
    "id": "SYhF6Z9PaSMe"
   },
   "outputs": [],
   "source": [
    "# Period in days:\n",
    "P = \n",
    "# Star's mass:\n",
    "M_star = \n",
    "# Conversion from days to years:\n",
    "days_in_a_year = \n",
    "# Convert period from days to years:\n",
    "P_in_years = \n",
    "\n",
    "# Compute semi-major axis:\n",
    "a_planet =     #write equation here\n",
    "\n",
    "print(a_planet)"
   ]
  },
  {
   "cell_type": "markdown",
   "metadata": {
    "id": "gzf14f3qIHj7"
   },
   "source": [
    "___"
   ]
  },
  {
   "cell_type": "markdown",
   "metadata": {
    "id": "QfD-3KwXIHj9"
   },
   "source": [
    "<sub>Written by Katie Chamberlain 2019 and 2020, adapted by Logan Pearce 2021. Adapted from exercise by Christine O'Donnell.</sub>"
   ]
  }
 ],
 "metadata": {
  "colab": {
   "collapsed_sections": [],
   "name": "3-IntroToExoplanets.ipynb",
   "provenance": []
  },
  "kernelspec": {
   "display_name": "Python 3",
   "language": "python",
   "name": "python3"
  },
  "language_info": {
   "codemirror_mode": {
    "name": "ipython",
    "version": 3
   },
   "file_extension": ".py",
   "mimetype": "text/x-python",
   "name": "python",
   "nbconvert_exporter": "python",
   "pygments_lexer": "ipython3",
   "version": "3.7.2"
  },
  "toc": {
   "base_numbering": 1,
   "nav_menu": {},
   "number_sections": true,
   "sideBar": true,
   "skip_h1_title": false,
   "title_cell": "Table of Contents",
   "title_sidebar": "Contents",
   "toc_cell": false,
   "toc_position": {},
   "toc_section_display": true,
   "toc_window_display": false
  }
 },
 "nbformat": 4,
 "nbformat_minor": 1
}
