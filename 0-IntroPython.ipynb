{
 "cells": [
  {
   "cell_type": "markdown",
   "metadata": {
    "colab_type": "text",
    "id": "uLnlPC4wE5Ui"
   },
   "source": [
    "# Introduction to Python Programming\n",
    "\n",
    "\n",
    "Before we dive head first into this research project, you should have some exposure to the basics of programming in Python.\n",
    "<br><br>\n",
    "Python is an incredibly powerful programming language commonly used across many subjects of academia and in industry.  There are \"packages\" people have written for every possible application, and we hope that this will not be your last encounter with it. Many people agree that it is an ideal first programming language, so here we are!\n",
    "\n",
    "A quick point about Notebooks before getting into Python itself:  \n",
    "**If you'd like to create a new cell above or below the one you are in**</font>, press 'esc' and then 'a' or 'b' for 'above' and 'below'. Try it here by clicking once on this cell, then pressing esc, then b (not at the same time though!). \n",
    "\n",
    "**To delete the cell you just made** click into the cell, press 'esc', then press d twice!  If it doesn't work, you can also press the trash can icon to the right. For more tricks like this, you can check Tools > Keyboard shortcuts.\n"
   ]
  },
  {
   "cell_type": "code",
   "execution_count": null,
   "metadata": {
    "colab": {},
    "colab_type": "code",
    "id": "xFYuMxBwgXf8"
   },
   "outputs": [],
   "source": [
    "# This is a \"code cell\", where you can write code to be executed by the computer.\n",
    "\n",
    "# By the way, a pound sign at the front of a line indicates a comment.  You can put anything in a comment and Python\n",
    "# will ignore it when it runs.  This is useful for me to give you hints and for you to comment out code that you \n",
    "# don't want to use.  \n",
    "# Take it from my personal experience: comment out working code that you don't want to run instead of deleting it. \n",
    "# * Far better to have it and not use it than wonder how you fixed your problem the last time you encountered it. *"
   ]
  },
  {
   "cell_type": "markdown",
   "metadata": {
    "colab_type": "text",
    "id": "J4SHmS-PE5Ul"
   },
   "source": [
    "## Importing Packages\n",
    "The first thing we have to do in Python is to import the packages we want to use.  For our case, we'll often want to have NumPy, a mathematics package, and Matplotlib, a plotting package, imported. "
   ]
  },
  {
   "cell_type": "markdown",
   "metadata": {
    "colab_type": "text",
    "id": "dYesgbw7E5Uw"
   },
   "source": [
    "You should run the code in the cell below, and all future cells, by clicking on it and then pressing `Shift+Enter` (this works on both Windows and Mac).  When you oopen a notebook, each code cell will have [ ] next to it! After running a cell, this will be replaced by a number when the code block has completed (such as below, it will say [1]). Save your work by pressing `Ctrl+s` (`command+s` on Mac)."
   ]
  },
  {
   "cell_type": "code",
   "execution_count": null,
   "metadata": {
    "colab": {},
    "colab_type": "code",
    "id": "ljgkj7VSE5Uy"
   },
   "outputs": [],
   "source": [
    "import numpy as np              # this imports all subroutines from the NumPy package and nicknames the package np\n",
    "import matplotlib.pyplot as plt # this also imports things from Matplotlib and nicknames the package plt\n",
    "                                # these nicknames are the conventional way to name these packages\n",
    "\n",
    "# If we want to plot things in a Jupyter notebook, we need to make sure that the plots we make are displayed inline.\n",
    "# Don't use this if you are not using a Jupyter notebook or some other iPython environment.\n",
    "%matplotlib inline\n",
    "\n"
   ]
  },
  {
   "cell_type": "markdown",
   "metadata": {
    "colab_type": "text",
    "id": "dytLX7hi700y"
   },
   "source": [
    "As you (hopefully) saw in the Intro to Notebooks exercise last night, you can access the functions that these imported packages provide by typing `np.` or `plt.`\n",
    "\n",
    "If you ever want to know what a function does, you can start or end a line with `?`. Run the cell below to see what this does!"
   ]
  },
  {
   "cell_type": "code",
   "execution_count": null,
   "metadata": {
    "colab": {},
    "colab_type": "code",
    "id": "Xz-oeSFO8nIk"
   },
   "outputs": [],
   "source": [
    "np.array?"
   ]
  },
  {
   "cell_type": "markdown",
   "metadata": {
    "colab_type": "text",
    "id": "8y7XkJB78v8m"
   },
   "source": [
    "This is very useful when you can't remember exactly what a function does or how you need to call it. I use it all the time!"
   ]
  },
  {
   "cell_type": "markdown",
   "metadata": {
    "colab_type": "text",
    "id": "cwmCCFSoE5U5"
   },
   "source": [
    "___"
   ]
  },
  {
   "cell_type": "markdown",
   "metadata": {
    "colab_type": "text",
    "id": "tM5bV-inE5U7"
   },
   "source": [
    "<font size=5 color='cornflowerblue' >**Check in with me to make sure your notebook is working correctly!**</font>"
   ]
  },
  {
   "cell_type": "markdown",
   "metadata": {
    "colab_type": "text",
    "id": "8QgHkGaVE5U7"
   },
   "source": [
    "___"
   ]
  },
  {
   "cell_type": "markdown",
   "metadata": {
    "colab_type": "text",
    "id": "cIQRmyhrE5U8"
   },
   "source": [
    "# Creating Variables\n",
    "One of the fundamentals of programming is declaring variables.  Variables have a \"type\", such as integer numbers, floating point numbers, or strings, and any programming language will treat different variable types differently.  Python makes it easy on us and tries to interpret what we mean. However, we have to be smarter than our programming language!\n",
    "\n",
    "The first data type is an _integer_.  An integer is any positive or negative whole number (no decimal places).  In computer science, any arithmetic operation with two integers will create another integer.  For instance, in integer math, $5\\div2=2$.  This operation takes the decimal result of $2.5$ and truncates (it does _not_ round) to the nearest whole number.  Similarly, $5\\div-3=-1$ even though any calculator will give you the result of $-1.667$.  \n",
    "\n",
    "The second data type you should know is a _float_.  This is any number that has a decimal, such as $1.0$, $-362.278$, or $9.4\\textrm{e}9$ (9.4 billion). Floats work exactly the way you would expect in normal arithmetic.\n",
    "It is important to note that Python 3 (which we are using) treats integers as floats for division using `/`, so the above doesn't apply. Integer division uses `//` in Python 3. \n",
    "\n",
    "Check this for yourself below! What do you think will be printed by the following code?"
   ]
  },
  {
   "cell_type": "code",
   "execution_count": null,
   "metadata": {
    "colab": {},
    "colab_type": "code",
    "id": "iQNbqm155PT0"
   },
   "outputs": [],
   "source": [
    "x = 3 / 2 \n",
    "print(\"The value of x is \" , x)\n",
    "\n",
    "y = 3 // 2\n",
    "print(\"The value of y is \", y)"
   ]
  },
  {
   "cell_type": "markdown",
   "metadata": {
    "colab_type": "text",
    "id": "eS5YKDGW4zGv"
   },
   "source": [
    "\n",
    "\n",
    "The final important datatype is the _string_.  This is any set of letters, numbers, or symbols you want it to be.  In Python, strings are created by placing apostrophes or quotation marks around the string of characters you want, such as `'this_is_my*string!*89234'`.\n",
    "\n",
    "\n",
    "To create a variable, we must give it a name and a value.  Variable names can contain any letter or number and underscores.  Do not name your variables after things that are pre-defined to the Python programming language, such as '`list`', '`set`', '`float`', '`int`', '`if`', '`for`', '`and`', etc.  You'll know that it is a special word if, when you type it on a new line, it highlights in a different color."
   ]
  },
  {
   "cell_type": "code",
   "execution_count": null,
   "metadata": {
    "colab": {},
    "colab_type": "code",
    "id": "flAX21I2E5U9"
   },
   "outputs": [],
   "source": [
    "list # this is highlighted in a different color because it is a keyword in Python\n",
    "     # In this case, it is a keyword because it is a type that Python already \n",
    "     # provides us. Keep this in mind when naming variables!\n",
    "\n",
    "my_variable1 = 1   # this is an integer\n",
    "\n",
    "my_variable2 = 1.0 # this is a float\n",
    "\n",
    "my_variable3 = \"1\" # this is a string\n",
    "\n",
    "my_variable3 = '1' # this is also a string\n",
    "\n",
    "# We can also output information so we can read it using the print() command\n",
    "# The type() command prints the data type of the variable\n",
    "print(my_variable1, type(my_variable1))\n",
    "print(my_variable2, type(my_variable2))\n",
    "print(my_variable3, type(my_variable3))"
   ]
  },
  {
   "cell_type": "markdown",
   "metadata": {
    "colab_type": "text",
    "collapsed": true,
    "id": "kYvsRcNwE5VC"
   },
   "source": [
    "We can also reassign variables by just redefining the value."
   ]
  },
  {
   "cell_type": "code",
   "execution_count": null,
   "metadata": {
    "colab": {},
    "colab_type": "code",
    "id": "r5Uk2DWVE5VC"
   },
   "outputs": [],
   "source": [
    "print(my_variable3, type(my_variable3)) # what is this value now?\n",
    "\n",
    "my_variable3 = 1.0 # it was a string, now it is a float\n",
    "\n",
    "print(my_variable3, type(my_variable3)) # what did this value change to?"
   ]
  },
  {
   "cell_type": "markdown",
   "metadata": {
    "colab_type": "text",
    "id": "IY0eN254E5VI"
   },
   "source": [
    "# Math in Python\n",
    "\n",
    "We can do any algebra in Python in a very similar manner to how you would do it on pen and paper, or on a calculator. Below are some examples."
   ]
  },
  {
   "cell_type": "code",
   "execution_count": null,
   "metadata": {
    "colab": {},
    "colab_type": "code",
    "id": "5-6S9HMFE5VI"
   },
   "outputs": [],
   "source": [
    "# First, we have to define the variables that we're using.  Note that they're floats!\n",
    "x = 2.\n",
    "y = 3.\n",
    "\n",
    "z = x + y\n",
    "print('x+y =',z) # you can also print strings with the print() statement\n",
    "\n",
    "z = x * y\n",
    "print('x*y =',z)\n",
    "\n",
    "z = y / x\n",
    "print('y/x =',z)\n",
    "\n",
    "# A helpful trick is that you can modify a variable in place without creating a new copy\n",
    "# here, we are taking z, adding 10 to it, then calling that z again!\n",
    "z = z + 10\n",
    "print(\"z+10 =\",z)\n"
   ]
  },
  {
   "cell_type": "code",
   "execution_count": null,
   "metadata": {
    "colab": {},
    "colab_type": "code",
    "id": "SFfsWTnsE5VM"
   },
   "outputs": [],
   "source": [
    "# We can do more complicated operations. Remember your parentheses to ensure operations are done in the right order!\n",
    "# Here, I want to divide the quantity y-x by the quantity x+y. For the given values of x and y, the right answer is 0.2\n",
    "x = 2.\n",
    "y = 3.\n",
    "\n",
    "z = (y-x)/(x+y)\n",
    "print('right:',z)\n",
    "\n",
    "# This is the WRONG WAY\n",
    "z = y - x / x + y # this simplifies to y-1+y, which is not what we're trying to solve\n",
    "print('wrong:',z)\n",
    "\n",
    "z = (y - x) / (x + y)\n",
    "print('(y-x)/(x+y) =',z)"
   ]
  },
  {
   "cell_type": "code",
   "execution_count": null,
   "metadata": {
    "colab": {},
    "colab_type": "code",
    "id": "ASiW3ReJE5VP"
   },
   "outputs": [],
   "source": [
    "# In Python, powers (squared, cubed, etc.) are achieved by using **.\n",
    "\n",
    "z = x ** 2. # x^2\n",
    "print('x^2 =',z)\n",
    "z = x ** (1. / 2.) # equivalent to the square root of x\n",
    "print('x^1/2 =',z)\n",
    "\n",
    "# We can also use built-in NumPy functions to do these things. Since we are using a package to call a function,\n",
    "# we have to make sure python knows to use a function from that specific package (which we call np for numpy)!\n",
    "# Things like sin, cos, and log10 are also defined.  If you want to use it, it probably exists.\n",
    "z = np.sqrt(x) # also the square root of x\n",
    "print('sqrt(x) =',z)\n",
    "\n",
    "# There are also some built-in variables that are really helpful, such as pi, e, etc.\n",
    "print('pi = ', np.pi, ', e =',np.e)\n",
    "\n",
    "z = z + 10\n",
    "print(\"z+10 =\",z)\n",
    "\n",
    "\n",
    "z = x** (1./2.) # equivalent to the square root of x\n",
    "\n",
    "\n",
    "z = x ** 2\n",
    "print('x^2 =',z)\n",
    "\n",
    "z = x ** (.1/.2)\n",
    "print(z)\n"
   ]
  },
  {
   "cell_type": "markdown",
   "metadata": {
    "colab_type": "text",
    "id": "oqky3RptE5VT"
   },
   "source": [
    "<font color='cornflowerblue' size=4>**Now you**</font>\n",
    "\n",
    "Given what you now know, I'm going to give you a challenge.  Code up the following equation in the box below:\n",
    "$$ z=\\frac{x^2+\\frac{3x+12}{x^2+6x-4}}{\\sqrt[3]{x}} $$\n",
    "Use the value $x=8$. If your code is correct, you should get $z=32.16667$.\n",
    "\n",
    "(Hint: if you click by a parenthesis, it will illuminate its partner)."
   ]
  },
  {
   "cell_type": "code",
   "execution_count": null,
   "metadata": {
    "colab": {},
    "colab_type": "code",
    "id": "Z6PMgDBaE5VT"
   },
   "outputs": [],
   "source": [
    "x = 8\n",
    "\n",
    "# put your code below! don't forget to uncomment the lines you want to run!\n",
    "#z = ()\n",
    "#print(z)"
   ]
  },
  {
   "cell_type": "markdown",
   "metadata": {
    "colab_type": "text",
    "id": "xROCRm3GE5VX"
   },
   "source": [
    "___"
   ]
  },
  {
   "cell_type": "markdown",
   "metadata": {
    "colab_type": "text",
    "id": "LHL-kvNwE5VY"
   },
   "source": [
    "<font size=5 color='cornflowerblue' >**Check in with me to make sure your notebook is working correctly!**</font>\n",
    "\n",
    "\n"
   ]
  },
  {
   "cell_type": "markdown",
   "metadata": {
    "colab_type": "text",
    "id": "pK8GfYbzE5VZ"
   },
   "source": [
    "___"
   ]
  },
  {
   "cell_type": "markdown",
   "metadata": {
    "colab_type": "text",
    "id": "qWPYCiLIE5Va"
   },
   "source": [
    "# For Loops\n",
    "\n",
    "A very powerful tool for many situations is the `for loop`.  For instance, if I were to say, \"For each person in your group, say your name,\" you would, one at a time, go around and say your name.  A for loop is the same thing: for each thing in the collection you are interested in, do something.\n",
    "\n",
    "If we want to loop over many items, we need to find a  variable that holds more than one integer, float, or string.  The basic container in Python is called a `list`.  \n",
    "\n",
    "Below are examples of lists and for loops."
   ]
  },
  {
   "cell_type": "code",
   "execution_count": null,
   "metadata": {
    "colab": {},
    "colab_type": "code",
    "id": "jETQWvKkE5Va"
   },
   "outputs": [],
   "source": [
    "# First, we need a list.  A list is surrounded by brackets [], and each value is separated by a comma. A list can\n",
    "# contain any data type we want\n",
    "numbers = [1, 18, -12, 34]\n",
    "branches = ['Air Force', 'Army', 'Coast Guard', 'Marines', 'Navy'] # It's alphabetical. No favoritism here...\n",
    "\n",
    "\n",
    "# We can use an index from 0 to (the length of the list)-1 to access the individual elements of a list or array\n",
    "print(numbers[0], numbers[1], numbers[2], numbers[3])\n",
    "print(branches[0], branches[1], branches[2], branches[3])\n",
    "\n",
    "# Or, we can access them backwards using negative indexes -1, -2, -3, etc\n",
    "print(branches[-1], branches[-2], branches[-3])\n"
   ]
  },
  {
   "cell_type": "code",
   "execution_count": null,
   "metadata": {
    "colab": {},
    "colab_type": "code",
    "id": "Ic6qMk-ClMXG"
   },
   "outputs": [],
   "source": [
    "# You can add two lists together; it will concatenate, or add, the second on to the end of the first\n",
    "print(numbers + branches)"
   ]
  },
  {
   "cell_type": "code",
   "execution_count": null,
   "metadata": {
    "colab": {},
    "colab_type": "code",
    "id": "GFCNB7vyn6yi"
   },
   "outputs": [],
   "source": [
    "# If we add two lists of numbers, we get a list that contains both lists of numbers:\n",
    "x = [1,2,3,4]\n",
    "y = [5,6,7,8]\n",
    "print(x+y)"
   ]
  },
  {
   "cell_type": "code",
   "execution_count": null,
   "metadata": {
    "colab": {},
    "colab_type": "code",
    "id": "8AzrnGFIoHDS"
   },
   "outputs": [],
   "source": [
    "# What if we want to add the first number of x to the first number in y, \n",
    "# the second number in x to the second number in y, and so on? We can do this using arrays!\n",
    "# Arrays are like lists, but you can do math with them! \n",
    "x = np.array([1,2,3,4])\n",
    "y = np.array([5,6,7,8])\n",
    "print(x+y)"
   ]
  },
  {
   "cell_type": "markdown",
   "metadata": {
    "colab_type": "text",
    "id": "GQPSiUy-ldBO"
   },
   "source": [
    "<font color='cornflowerblue' >**Before we run the cell below, let's see if we can figure out what it will do**</font>"
   ]
  },
  {
   "cell_type": "code",
   "execution_count": null,
   "metadata": {
    "colab": {},
    "colab_type": "code",
    "id": "vuLqhsqME5Ve"
   },
   "outputs": [],
   "source": [
    "# Next, our for loop. Python for loops are written just like you would say them in English.  \n",
    "# The code in the for loop is indented by a tab or a few spaces.  The loop will be performed on the list in order.\n",
    "for item in branches:\n",
    "    print(item)\n",
    "\n",
    "    \n",
    "    \n",
    "# To back out of the loop such that new code won't be in the loop, just un-indent the next piece of code\n",
    "print(\"Finished my first loop!\")\n"
   ]
  },
  {
   "cell_type": "markdown",
   "metadata": {
    "colab_type": "text",
    "id": "_9MZIXTBt_W-"
   },
   "source": [
    "<font color='cornflowerblue'>**Can you can explain in your own words what that for loop above was doing?**</font>"
   ]
  },
  {
   "cell_type": "code",
   "execution_count": null,
   "metadata": {
    "colab": {},
    "colab_type": "code",
    "id": "pilojjSFE5Vm"
   },
   "outputs": [],
   "source": [
    "# Next, let's learn about a handy function: range(N).  range(N) will give you a list of N integers from 0 \n",
    "# to N-1 and is particularly handy in for loops.\n",
    "\n",
    "for item in range(10):\n",
    "    print(item)\n",
    "    \n",
    "# after you look at the output of this for loop, try changing it to print out the numbers 1 - 10. \n",
    "# put that code below:\n",
    "\n",
    "# for ___ in ___:\n",
    "#    print(___)\n",
    "\n",
    "\n"
   ]
  },
  {
   "cell_type": "markdown",
   "metadata": {
    "colab_type": "text",
    "id": "v67jLlcMmVuX"
   },
   "source": [
    "<font color='cornflowerblue'>**See if you can explain in your own words what that for loop above was doing.**</font>"
   ]
  },
  {
   "cell_type": "code",
   "execution_count": null,
   "metadata": {
    "colab": {},
    "colab_type": "code",
    "id": "mracw3tDm6fA"
   },
   "outputs": [],
   "source": [
    "# We can do more than print in a for loop. \n",
    "# Let's try to make a for loop that will add 1 to a starting number 5 times:\n",
    "\n",
    "ourNumber = 4\n",
    "for number in range(5):\n",
    "    ourNumber+1\n",
    "\n",
    "print(ourNumber)\n"
   ]
  },
  {
   "cell_type": "markdown",
   "metadata": {
    "colab_type": "text",
    "id": "ftUkvxIAm9IF"
   },
   "source": [
    "That didn't seem to work. What went wrong there? Let's fix it before moving on."
   ]
  },
  {
   "cell_type": "code",
   "execution_count": null,
   "metadata": {
    "colab": {},
    "colab_type": "code",
    "id": "ObWno7xBnZgC"
   },
   "outputs": [],
   "source": [
    "# Another useful way to use for loops it to add values to a list!\n",
    "# For instance, if I wanted to make a new empty list and add a new item to \n",
    "# it every time, I could do the following.\n",
    "\n",
    "new_list = [] # create a blank list that has no items in it\n",
    "for item in range(10):\n",
    "    new_list = new_list + [item] # You have to make item into a list (put it in brackets) in order to add it to new_list\n",
    "    print(new_list) # each time, new_list gets longer by 1\n",
    "    "
   ]
  },
  {
   "cell_type": "code",
   "execution_count": null,
   "metadata": {
    "colab": {},
    "colab_type": "code",
    "id": "M1WDg3llE5Vp"
   },
   "outputs": [],
   "source": [
    "# Alternatively, you can do that same by \"appending\" the value to the end of the list.\n",
    "# This updates the list during each cycle in the loop.\n",
    "# This let's you avoid having to put the item in it's own list each time.\n",
    "second_list = []\n",
    "for item in range(10):\n",
    "    second_list.append(item) # list_name.append(item) will append item to the list named \"list_name\"\n",
    "    print(second_list)"
   ]
  },
  {
   "cell_type": "markdown",
   "metadata": {
    "colab_type": "text",
    "id": "zosQ3565E5Vr"
   },
   "source": [
    "<font color='cornflowerblue' size=4>**Now you**</font>"
   ]
  },
  {
   "cell_type": "markdown",
   "metadata": {
    "colab_type": "text",
    "id": "QzP9Ba8cE5Vv"
   },
   "source": [
    "An important skill in coding is to learn how to use the internet to figure out coding problems. Try to find out how to make an array of the even numbers between 0 and 20. Then, use a `for loop` to print out each of the numbers."
   ]
  },
  {
   "cell_type": "code",
   "execution_count": null,
   "metadata": {
    "colab": {},
    "colab_type": "code",
    "id": "TI5QvxsWE5Vw"
   },
   "outputs": [],
   "source": [
    "# put code here:\n"
   ]
  },
  {
   "cell_type": "markdown",
   "metadata": {
    "colab_type": "text",
    "id": "jB7Wvel-pF5r"
   },
   "source": [
    "___"
   ]
  },
  {
   "cell_type": "markdown",
   "metadata": {
    "colab_type": "text",
    "id": "e1N7pSkoE5WL"
   },
   "source": [
    "# Functions\n",
    "\n",
    "In a function, we would like to be able to give the computer a value we specify, then have the computer perform an operation using that value, and return the solution. This is the same concept as in math, in that when we represent a line with $y(x)=mx+b$, we can determine the value of y given the value of x we want to use.\n",
    "\n",
    "Think of a function like a machine.  We put in our inputs, the machine does something to them, and spits out what we want on the other end."
   ]
  },
  {
   "cell_type": "code",
   "execution_count": null,
   "metadata": {
    "colab": {},
    "colab_type": "code",
    "id": "vDZEC13rE5WM"
   },
   "outputs": [],
   "source": [
    "# I'm going to give you a first example of a function. \n",
    "# The main components of a function are to include \"def nameOfFunction():\"\n",
    "# and then to indent everything that will be a part of your function, similarly\n",
    "# to a `for loop`.\n",
    "# You also need to make sure that your function *returns* a value. \n",
    "\n",
    "# The simplest python function is below and simply returns whatever you give it:\n",
    "\n",
    "def our_first_function(value):\n",
    "    return value\n",
    "\n",
    "print(our_first_function(1))\n",
    "print(our_first_function('see?'))\n",
    "print(our_first_function(1+2))\n"
   ]
  },
  {
   "cell_type": "code",
   "execution_count": null,
   "metadata": {
    "colab": {},
    "colab_type": "code",
    "id": "eme57OcCE5WO"
   },
   "outputs": [],
   "source": [
    "# We can even have our function return an array of numbers, if we give it\n",
    "# an array:\n",
    "\n",
    "xs = np.array([1,2,3,4])\n",
    "print(our_first_function(xs))"
   ]
  },
  {
   "cell_type": "markdown",
   "metadata": {
    "colab_type": "text",
    "id": "Dimg6lXqravD"
   },
   "source": [
    "In math, the equation for a line takes the form y = m*x + b, where x is the input value, m is the slope of the line, and b is the y-intercept value (where x = 0). Let's make this into a python function."
   ]
  },
  {
   "cell_type": "code",
   "execution_count": null,
   "metadata": {
    "colab": {},
    "colab_type": "code",
    "id": "55g4qRT5E5WQ"
   },
   "outputs": [],
   "source": [
    "# If we would like to define a function to give us the y-values of a line,\n",
    "# we can write that as:\n",
    "def line(x):\n",
    "    y = 2 * x + 1\n",
    "    return y\n",
    "\n",
    "# Then we can use our function to compute values of y for a given value of x:\n",
    "ans = line(2)\n",
    "print(ans)\n",
    "\n",
    "# Or the y values that correspond to a bunch of x values:\n",
    "ans = line(np.array([1,2,3,4]))\n",
    "print(ans)"
   ]
  },
  {
   "cell_type": "markdown",
   "metadata": {
    "colab_type": "text",
    "id": "rOmnsakpE5WT"
   },
   "source": [
    "<font color='cornflowerblue' size=4>**Now you**</font>\n",
    "\n",
    "\"Line\" has the slope of the line \"hardcoded\", we can't change it except by changing the function.  What if we wanted to test a bunch of lines with different slopes? Let's copy the function \"line\" above and alter it so that it takes both the x values *and the slope* of the line as an input.  Then use your new line function to print the value of y for a few values of slope and x."
   ]
  },
  {
   "cell_type": "code",
   "execution_count": null,
   "metadata": {
    "colab": {},
    "colab_type": "code",
    "id": "UOGem9BqE5WT"
   },
   "outputs": [],
   "source": []
  },
  {
   "cell_type": "markdown",
   "metadata": {
    "colab_type": "text",
    "id": "VEL44Iy6E5WX"
   },
   "source": [
    "Now let's write a function that, when given a name in a string, returns \"Hello, my name is ____\" with the name given."
   ]
  },
  {
   "cell_type": "code",
   "execution_count": null,
   "metadata": {
    "colab": {},
    "colab_type": "code",
    "id": "bs36ZjxuE5WX"
   },
   "outputs": [],
   "source": []
  },
  {
   "cell_type": "markdown",
   "metadata": {
    "colab_type": "text",
    "id": "I9tC7kZcE5Wa"
   },
   "source": [
    "___"
   ]
  },
  {
   "cell_type": "markdown",
   "metadata": {
    "colab_type": "text",
    "collapsed": true,
    "id": "4CM1PD4aE5Wa"
   },
   "source": [
    "# Plotting\n",
    "The last thing that you should know how to do is make a plot.  Plots are GREAT ways to visualize data, especially to present to the public, or to more general audiences! They help you convey information that may otherwise be hard to understand.\n",
    "\n",
    "At the very top of this notebook, we imported the library we will be using to make plots like this: `import matplotlib.pyplot as plt`\n",
    "\n",
    "If we want to use any of the functions that matplotlib.pyplot has, we can use the nickname `plt` that we gave it!"
   ]
  },
  {
   "cell_type": "code",
   "execution_count": null,
   "metadata": {
    "colab": {},
    "colab_type": "code",
    "id": "0cdwJOxTE5Wb"
   },
   "outputs": [],
   "source": [
    "# This plotting code uses the package \"Matplotlib\", which contains a bunch of \n",
    "# functions that other people have created for making nice plots.\n",
    "# We imported matplotlib at the top of this notebook and can now use the functions it contains.\n",
    "\n",
    "# First things first, we need to define our variables\n",
    "\n",
    "x = np.arange(1,20,2) # arange() is like range, except that we can define a lower bound, upper bound, and step size\n",
    "print(x)\n",
    "\n",
    "# We can then use our array of x values to create an array of y variables\n",
    "y = x ** 2 \n",
    "print(y)"
   ]
  },
  {
   "cell_type": "code",
   "execution_count": null,
   "metadata": {
    "colab": {},
    "colab_type": "code",
    "id": "GaIXmPVZsZTI"
   },
   "outputs": [],
   "source": [
    "# Now, let's make our first plot! \n",
    "# plt (a.k.a matplotlib.pyplot) has a function called plot that will make a \n",
    "# nice plot for us. All we have to do is tell it the x values and y values\n",
    "# that we want it to plot!\n",
    "\n",
    "plt.plot(x,y) #we are using the package that we call plt, and its function 'plot'\n",
    "plt.show() # try commenting out this line and see what happens! this line is required for some types of plots"
   ]
  },
  {
   "cell_type": "code",
   "execution_count": null,
   "metadata": {
    "colab": {},
    "colab_type": "code",
    "id": "N2oXN-RNE5Wd"
   },
   "outputs": [],
   "source": [
    "# We can change colors, linestyles, and symbol markers using keywords\n",
    "# See https://matplotlib.org/api/_as_gen/matplotlib.pyplot.plot.html for the full list of options\n",
    "plt.plot( x, y, color='gold', linestyle='dashed', marker='^')\n",
    "\n",
    "# We can also overplot a second line by just adding another \n",
    "# plt.plot command before plt.show()!\n",
    "z = x**3./2.\n",
    "plt.plot(x, z, color = 'red', marker='*') #linestyle default is 'solid'\n",
    "\n",
    "# Now let's add some stuff that makes our plot a little easier to understand!\n",
    "# uncomment the following commands one at a time to see what changes!\n",
    "\n",
    "\n",
    "# Title\n",
    "#plt.title('Example Plot')\n",
    "\n",
    "# And we can zoom the axes\n",
    "#plt.xlim(0,10) # lower, upper x limits\n",
    "#plt.ylim(0,100)\n",
    "\n",
    "# We can also add axis labels\n",
    "#plt.xlabel('x')\n",
    "#plt.ylabel('y')\n",
    "\n",
    "# don't forget this very important line!\n",
    "plt.show()"
   ]
  },
  {
   "cell_type": "code",
   "execution_count": null,
   "metadata": {
    "colab": {},
    "colab_type": "code",
    "id": "yf_mvziJE5Wg"
   },
   "outputs": [],
   "source": [
    "# Finally, sometimes you just want a scatter plot instead of a line plot.  Scatter has lots of options that\n",
    "# I'll let you look up yourself\n",
    "plt.scatter(x, y, marker='s', color='green')\n",
    "plt.show()"
   ]
  },
  {
   "cell_type": "code",
   "execution_count": null,
   "metadata": {
    "colab": {},
    "colab_type": "code",
    "id": "xmlG3HafuVJq"
   },
   "outputs": [],
   "source": [
    "# You can combine both the line plot and the scatter plot into one plot! \n",
    "plt.plot( x, y, color='gold', linestyle='dashed')\n",
    "plt.scatter(x, y, marker='s', color='green')\n",
    "plt.show()"
   ]
  },
  {
   "cell_type": "markdown",
   "metadata": {
    "colab_type": "text",
    "id": "joySphW7E5Wj"
   },
   "source": [
    "<font color='cornflowerblue' size=4>**Now you**</font>\n",
    "\n",
    "Make me a plot of at least two lines with new variables, colors, and symbol markers.  Write your code in the cell below. If you're feeling up to the challenge, try different things, like looking up how to add a legend and labels to each line! You could try using the `line` function we wrote up above to get values for y!"
   ]
  },
  {
   "cell_type": "code",
   "execution_count": null,
   "metadata": {
    "colab": {},
    "colab_type": "code",
    "id": "V2Amzdy2E5Wj"
   },
   "outputs": [],
   "source": []
  },
  {
   "cell_type": "markdown",
   "metadata": {
    "colab_type": "text",
    "id": "-WCYh-GqE5Wk"
   },
   "source": [
    "Phew!  You've already learned a LOT of Python.  If you need help, any of the grad students or Stack Overflow/Google have lots of answers.  Don't be afraid to ask!"
   ]
  },
  {
   "cell_type": "markdown",
   "metadata": {
    "colab_type": "text",
    "id": "zw5rMUDgohEA"
   },
   "source": [
    "# Bonus content:\n",
    "In case you want to have some more resources:"
   ]
  },
  {
   "cell_type": "markdown",
   "metadata": {
    "colab_type": "text",
    "id": "Wkpd_wh6yldj"
   },
   "source": [
    "## Conditional statements\n",
    "\n",
    "One of the major tools in computer science is the `if-else` statement.  Much like in real life, conditionals allow you to decide what you want to do in different situations.  If the conditional in the if statement is true, you will execute the code in the if statement.  If not, it will go on to the else statement\n",
    "\n",
    "There are several conditionals you can use to filter your decisions. Here are the major ones:\n",
    "- Equivalent to (==): If two things are exactly the same, this will be true. \n",
    "- Not equivalent to (!=): If two things are not exactly the same, this will be true.\n",
    "- Less than (<): If one number or variable is less than the other, this is true.\n",
    "- Greater than (>): If one number or variable is greater than the other, this is true. \n",
    "- Less than or equal to (<=) or greater than or equal to (>=): This checks if something is bigger or equal to (or smaller than or equal to) another variable."
   ]
  },
  {
   "cell_type": "code",
   "execution_count": null,
   "metadata": {
    "colab": {},
    "colab_type": "code",
    "id": "KCzQJ5NXyjRp"
   },
   "outputs": [],
   "source": [
    "# Here's an example of conditional statements at work:\n",
    "\n",
    "x = 10\n",
    "print(x == 1)  # returns False\n",
    "print(x != 1)  # returns True\n",
    "print(x < 100) # returns True\n",
    "print(x >= 10) # returns True\n",
    "print(x > 10)  # returns False\n",
    "\n",
    "# Now, for if-else statements\n",
    "\n",
    "# I'm going to make a new list\n",
    "animals = ['dog','cat','love bird','finch','parrot']\n",
    "\n",
    "# I'm going to iterate over my list with a for loop and decide what to do in the different cases. \n",
    "# As with a for loop, the code inside the if statement is indented\n",
    "# In this code, it checks if the pet is a dog, and if it isn't, it executes the code in the else clause.\n",
    "for pet in animals:\n",
    "    if pet == 'dog': \n",
    "        print(pet, \"says woof\")\n",
    "    else:\n",
    "        print(pet, \"says chirp\")\n",
    "        \n",
    "carbs = ['pastries', 'pasta', 'tortillas', 'candy', 'snacks'] \n",
    "for food in carbs:\n",
    "    if food == 'pastries':\n",
    "        print (\"merci\")\n",
    "    else:\n",
    "        print (\"yum\")\n",
    "        \n",
    "        "
   ]
  },
  {
   "cell_type": "code",
   "execution_count": null,
   "metadata": {
    "colab": {},
    "colab_type": "code",
    "id": "08vQEoQlo7h9"
   },
   "outputs": [],
   "source": [
    "# Wait! Cat's don't chirp.  We can define multiple conditionals using the else-if (elif) syntax\n",
    "# Elif lets you have a second option in the code (or third, or fourth; you can have as many as you want).\n",
    "# As an example, in the real world, say I want to go grocery shopping.  I might say\n",
    "#    If Trader Joe's is open, then I'll shop there                      (If)\n",
    "#    If Trader Joe's is not open, but Sprouts is open, I'll shop there  (Elif)\n",
    "#    Otherwise, if neither is open, I'll shop at Fry's                  (Else)\n",
    "# In this code, it first checks if pet is a dog, then if it is a cat, and finally, if it isn't either of those,\n",
    "# it does what the else clause says.\n",
    "for pet in animals:\n",
    "    if pet == 'dog': \n",
    "        print(pet,\"says woof\")\n",
    "    elif pet == 'cat':\n",
    "        print(pet,\"says meow\")\n",
    "    else:\n",
    "        print(pet, \"says chirp\")"
   ]
  },
  {
   "cell_type": "code",
   "execution_count": null,
   "metadata": {
    "colab": {},
    "colab_type": "code",
    "id": "-IRfcr1Io75Q"
   },
   "outputs": [],
   "source": [
    "# If you don't use elif, but rather just use multiple statements, the conditional will be checked every time, \n",
    "# which may or may not be what you want.\n",
    "# If we want to print numbers up to 20 divisible by both 5 and 10, we can do the following\n",
    "for i in range(20):\n",
    "    # Here, I'm using the modulo operator, which gives the remainder of a division operation.  \n",
    "    # For instance, 10/5=2 with a remainder of 0, so 10%5=0 because 5 divides 10 evenly.  \n",
    "    # However, 10/3=3 with a remainder of 1, so  10%3=1 because there would be 1 left over \n",
    "    # after the nearest smaller whole multiple of 3 is found.\n",
    "    if  i % 5 == 0:  # this asks if the number is exactly divisible by five\n",
    "        print(i)\n",
    "    if i % 10 == 0:\n",
    "        print(i)"
   ]
  },
  {
   "cell_type": "code",
   "execution_count": null,
   "metadata": {
    "colab": {},
    "colab_type": "code",
    "id": "j0nTh_IPo8NP"
   },
   "outputs": [],
   "source": [
    "# Hey! The previous for loop printed 0 and 10 twice-- that's because BOTH if statements were satisfied.  If we \n",
    "# only want one copy of each number printed, we need to do the following:\n",
    "for i in range(20):\n",
    "    if i % 5 == 0:  \n",
    "        print(i)\n",
    "    elif i % 10 == 0:\n",
    "        print(i)"
   ]
  },
  {
   "cell_type": "code",
   "execution_count": null,
   "metadata": {
    "colab": {},
    "colab_type": "code",
    "id": "EoTaefbDo8bO"
   },
   "outputs": [],
   "source": []
  },
  {
   "cell_type": "markdown",
   "metadata": {
    "colab_type": "text",
    "id": "hAR9a3wRpNRj"
   },
   "source": [
    "<font color='cornflowerblue'>Now you</font>\n",
    "\n",
    "My next challenge to you is to use what you've learned to create three sums in _one single_ loop (no running the loop three times!).  I want the sum of all even numbers from 0-100, the sum of all odd numbers from 0-100, and the sum of all numbers divisible by 3 from 0-100.  If you do it correctly, the answer to the first is 2550, the second is 2500, and the third is 1683. Write your code in the box below."
   ]
  },
  {
   "cell_type": "markdown",
   "metadata": {
    "colab_type": "text",
    "id": "q9r-OfImpW7d"
   },
   "source": [
    "Can you think of another way to do these sums? *Hint: make an array of all the even numbers from 0 to 100 (including 100!). Can you sum all the numbers in this array? Google it if you need to!*"
   ]
  },
  {
   "cell_type": "markdown",
   "metadata": {
    "colab_type": "text",
    "id": "J19-6u2Yulcl"
   },
   "source": [
    "## Plotting, continued!"
   ]
  },
  {
   "cell_type": "code",
   "execution_count": null,
   "metadata": {
    "colab": {},
    "colab_type": "code",
    "id": "tfMJyvB4pY4z"
   },
   "outputs": [],
   "source": [
    "# Let's step it up a bit and make a histogram.  A histogram divides the domain (x-values) into chunks called \"bins\", and counts how many things in your set \n",
    "# fall into each bin.\n",
    "\n",
    "# Let's start with the really useful function of generating a random sample.   \n",
    "x = np.random.normal(size=10000) # This function randomly picks 10000 numbers from a Gaussian probability distribution, commonly called a Bell Curve.\n",
    "# Now we can plot a histogram of that sample to see what \"x\" looks like:\n",
    "\n",
    "plt.hist(x)\n",
    "plt.show()"
   ]
  },
  {
   "cell_type": "code",
   "execution_count": null,
   "metadata": {
    "colab": {},
    "colab_type": "code",
    "id": "Sd5NhvCWpZTQ"
   },
   "outputs": [],
   "source": [
    "# Well, that kinda looks like a bell curve, but the bins seem too big.  We can change the bin parameter, which chnages the number of bins the histogram computes. \n",
    "plt.hist(x, bins=50)\n",
    "plt.show()\n",
    "# That looks nicer, more like a bell curve."
   ]
  },
  {
   "cell_type": "code",
   "execution_count": null,
   "metadata": {
    "colab": {},
    "colab_type": "code",
    "id": "aKtEqDqEux3G"
   },
   "outputs": [],
   "source": [
    "# Here I've grabbed a slightly different random sample, plotted both samples \n",
    "# on the same plot, and made the plot look really fancy.  \n",
    "# Change some of the inputs and see if you can figure out what each piece is doing.  \n",
    "# Also try commenting out lines of the plotting code to see what they do.  \n",
    "x2 = np.random.normal(loc = 1, size=10000)\n",
    "\n",
    "plt.figure(figsize=(8,8))\n",
    "plt.hist(x, bins=50, color='orange', alpha = 0.5, label = 'center = 0')\n",
    "plt.hist(x2, bins = 50, color='blue', alpha = 0.5, label = 'center = 1')\n",
    "plt.xlabel('x', fontsize=20)\n",
    "plt.ylabel('Number', fontsize = 20)\n",
    "plt.title('My plot', fontsize = 25)\n",
    "plt.legend()\n",
    "plt.grid(ls=':')\n",
    "plt.show()"
   ]
  },
  {
   "cell_type": "markdown",
   "metadata": {
    "colab_type": "text",
    "id": "5mR3EdiGE5Wl"
   },
   "source": [
    "<sup> Notebook written by Rachel Smullen (rsmullen@email.arizona.edu) in 2017. Edited by [Katie Chamberlain](https://katiechambe.github.io), Logan Pearce, and Spencer Scott in 2020.</sup>"
   ]
  }
 ],
 "metadata": {
  "colab": {
   "collapsed_sections": [],
   "name": "0_Intro_Python.ipynb",
   "provenance": [],
   "toc_visible": true
  },
  "kernelspec": {
   "display_name": "Python 3",
   "language": "python",
   "name": "python3"
  },
  "language_info": {
   "codemirror_mode": {
    "name": "ipython",
    "version": 3
   },
   "file_extension": ".py",
   "mimetype": "text/x-python",
   "name": "python",
   "nbconvert_exporter": "python",
   "pygments_lexer": "ipython3",
   "version": "3.8.5"
  },
  "toc": {
   "base_numbering": 1,
   "nav_menu": {},
   "number_sections": true,
   "sideBar": true,
   "skip_h1_title": false,
   "title_cell": "Table of Contents",
   "title_sidebar": "Contents",
   "toc_cell": false,
   "toc_position": {},
   "toc_section_display": true,
   "toc_window_display": false
  }
 },
 "nbformat": 4,
 "nbformat_minor": 1
}
