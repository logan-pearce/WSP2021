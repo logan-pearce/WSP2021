{
 "cells": [
  {
   "cell_type": "markdown",
   "metadata": {
    "id": "JrQQCMHoelXt"
   },
   "source": [
    "<font color='cornflowerblue' size = 5>Your turn!</font>\n",
    "\n",
    "Find an interesting Kepler planet, retrieve it's light curve, compute radius and period/semi-major axis, and make a simulation of the system.  \n",
    "\n",
    "[Kepler Search Form](https://archive.stsci.edu/kepler/confirmed_planets/search.php)\n",
    "\n",
    "Tips:\n",
    " - Find ones with deep dips, so you'll know you can see the transit easily.  One good way to do this is to limit the search parameters in the Kepler archive search.  Suggestions:\n",
    "     - In the drop-down menu for  <font color='skyblue'>***User-specified field 1***</font>,  select  <font color='skyblue'>***Planet Radius***</font>.  In the “Field Descriptions” box next to it, type <font color='skyblue'>***>1***</font>  (greater than one; Jupiter’s radius is equal to 1.0).\n",
    "     - In the drop-down menu for  <font color='lightcoral'>***User-specified field 2***</font>,  select  <font color='lightcoral'>***Period***</font>.  In the “Field Descriptions” box, type  <font color='lightcoral'>***<5***</font>  (less than five; the units are in Earth days).\n",
    "     - In the drop-down menu for  <font color='yellowgreen'>***User-specified field 3***</font>,  select  <font color='yellowgreen'>***Transit Depth***</font>.  In the “Field Descriptions” box next to it, type  <font color='yellowgreen'>***>5000***</font>  (greater than 5000).  This is the amount of stellar flux lost in parts per million at the minimum of the planetary transit. What this means is that we want a really deep dip!\n",
    "     - Click  Search.  A list of planets meeting your set criteria will be pulled up, along with a plethora of information about each one. Choose your favorite from the list. \n",
    "    \n",
    " - A system with more than one planet would be neat!\n",
    " - Don't hesitate to do some googling to find some neat Kepler systems that are unique in some way\n",
    "    \n",
    "**IMPORTANT:  Write down the name of your planet somewhere, and its ID (and the Alt Name if it is different). Write down the mass of the host star and the star's radius.**\n",
    "\n",
    "    \n",
    "Use this notebook for your work"
   ]
  },
  {
   "cell_type": "code",
   "execution_count": null,
   "metadata": {
    "id": "cwEG0HAOelXw"
   },
   "outputs": [],
   "source": [
    "# Write your code here to compute semi-major axis and radius of your planet(s) "
   ]
  },
  {
   "cell_type": "markdown",
   "metadata": {
    "id": "2IC-A28Fe7qV"
   },
   "source": [
    "### Simulate your Kepler system:"
   ]
  },
  {
   "cell_type": "code",
   "execution_count": null,
   "metadata": {
    "id": "bRaPXVJNeyar"
   },
   "outputs": [],
   "source": [
    "#################################################################\n",
    "# import some packages that will make programming easier for us #\n",
    "#################################################################\n",
    "import rebound\n",
    "import numpy as np\n",
    "from numpy import *\n",
    "import matplotlib.pyplot as plt\n",
    "%matplotlib inline \n",
    "\n",
    "%run tools.ipynb"
   ]
  },
  {
   "cell_type": "code",
   "execution_count": null,
   "metadata": {
    "id": "whzbonPVfAK-"
   },
   "outputs": [],
   "source": [
    "# Define the function to start up a new simulation:\n",
    "def start_new_sim(star_mass): \n",
    "    ''' \n",
    "    We have to give our function a unique name, \n",
    "    and we can pass parameters to it \n",
    "    '''\n",
    "    sim = rebound.Simulation()\n",
    "    sim.G = 4.*np.pi**2.\n",
    "    sim.units = ('yr', 'AU', 'Msun')\n",
    "    sim.add(m=star_mass)  \n",
    "    return sim "
   ]
  },
  {
   "cell_type": "code",
   "execution_count": null,
   "metadata": {
    "id": "ELrkdQQ0fNbF"
   },
   "outputs": [],
   "source": [
    "# Start a new simulation (input stars mass inside parentheses)\n",
    "sim = start_new_sim()\n",
    "\n",
    "# Add your planet:\n",
    "# (for mass you can enter a very small number like 1e-9 bc the planet has basically no mass compared to the star)\n",
    "sim.add(m = , a = )\n",
    "# If you have more than one planet in your system, repeat the sim.add command for each planet.\n",
    "\n",
    "# Move center of mass (you don't need to do anything here):\n",
    "sim.move_to_com()\n",
    "\n",
    "# Add the figure and axes objects:\n",
    "fig, ax = rebound.OrbitPlot(sim, unitlabel=\"(AU)\", color=True)"
   ]
  },
  {
   "cell_type": "code",
   "execution_count": null,
   "metadata": {
    "id": "Dl33KiT1f-dF"
   },
   "outputs": [],
   "source": [
    "%%capture \n",
    "\n",
    "# Set length of time step in years (should be less than one period of your star, ex: period = 4 days, set dt = 1/365, or one day converted into years)\n",
    "dt = \n",
    "# How many steps do you want the animation to take?\n",
    "N_steps = \n",
    "\n",
    "# Make an empty list to store the animation frames:\n",
    "frames = []\n",
    "\n",
    "# For each step:\n",
    "for i in range(N_steps):\n",
    "  # Advance the simulation time forward by a timestep:\n",
    "  new_time = sim.t+dt \n",
    "  # Integrate the simulation forward to that time to compute the new location of\n",
    "  # the planets at the new time:\n",
    "  sim.integrate(new_time) \n",
    "  # Add a plot of the simulation at the new time to the list of plots:\n",
    "  frames.append(make_rebound_frame(ax,sim)) \n",
    "  # Repeat the loop until it has stepped through all timesteps.\n",
    "       \n",
    "# Create the animation:\n",
    "ani = animation.ArtistAnimation(fig, frames)\n",
    "# Display the animation.  Does it look right?\n",
    "ani"
   ]
  },
  {
   "cell_type": "code",
   "execution_count": null,
   "metadata": {
    "id": "gs7IGuPXhH90"
   },
   "outputs": [],
   "source": [
    "# If it all looks good, let's make it into a gif!\n",
    "# Using the same dt and N_steps we set above, repeat the loop but save each image to your drive rather than saving it to a list of frames.\n",
    "# For each step:\n",
    "for i in range(N_steps):\n",
    "  # Advance the simulation time forward by a timestep:\n",
    "  new_time = sim.t+dt \n",
    "  # Integrate the simulation forward to that time to compute the new location of\n",
    "  # the planets at the new time:\n",
    "  sim.integrate(new_time) \n",
    "  # Make a beautiful rebound plot of the simulation:\n",
    "  rebound.OrbitPlot(sim, unitlabel=\"(AU)\", color=True)\n",
    "  # Save the figure to your drive:\n",
    "  plt.savefig('figs/myKepler_step_'+str(i)+'.png')\n",
    "  # Repeat the loop until it has stepped through all timesteps.\n",
    "\n",
    "# Stitch all the images into a single gif:\n",
    "# Import the package:\n",
    "import imageio\n",
    "# Make an empty list to store the images we wrote to disk:\n",
    "images = []\n",
    "# Create a list of all the images we wrote out:\n",
    "filenames = ['figs/myKepler_step_'+str(i)+'.png' for i in range(N_steps)]\n",
    "# For each image in the list:\n",
    "for filename in filenames:\n",
    "  # Open it and add it to the \"images\" list:\n",
    "  images.append(imageio.imread(filename))\n",
    "# Use the imageio package magic to stitch the images together into a gif:\n",
    "imageio.mimsave('myKepler_movie.gif', images)\n",
    "\n"
   ]
  },
  {
   "cell_type": "markdown",
   "metadata": {
    "id": "k-xlWoOvid9N"
   },
   "source": [
    "<font color='cornflowerblue' size = 5>Make a presentation!</font>\n",
    "\n",
    "Make a presentation to share with your class what we did this week and your neat Kepler planet system.  Shoot for ~15 min presentation.  All four people need to talk during the presentation, and each person should present their Kepler system.\n",
    "\n",
    "Tips:\n",
    " - Use Google Slides to collaborate on the presentation\n",
    " - A good rule of thumb is ~1 min per slide, so shoot for ~15 slides\n",
    " - Include your awesome gifs!\n",
    " - Use google to get neat images and spice up your presentation. (don't forget to include attribution for who's image you stole I mean borrowed)\n",
    " - If you learned cool stuff about your Kepler planet include it!\n",
    " - Make your presentation fun not boring!"
   ]
  },
  {
   "cell_type": "code",
   "execution_count": null,
   "metadata": {
    "id": "1JVxyXqXjX11"
   },
   "outputs": [],
   "source": []
  }
 ],
 "metadata": {
  "colab": {
   "collapsed_sections": [],
   "name": "5-YourExoplanet.ipynb",
   "provenance": []
  },
  "kernelspec": {
   "display_name": "Python 3",
   "language": "python",
   "name": "python3"
  },
  "language_info": {
   "codemirror_mode": {
    "name": "ipython",
    "version": 3
   },
   "file_extension": ".py",
   "mimetype": "text/x-python",
   "name": "python",
   "nbconvert_exporter": "python",
   "pygments_lexer": "ipython3",
   "version": "3.7.2"
  }
 },
 "nbformat": 4,
 "nbformat_minor": 1
}
