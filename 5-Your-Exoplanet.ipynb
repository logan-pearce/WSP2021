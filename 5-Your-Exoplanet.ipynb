{
 "cells": [
  {
   "cell_type": "markdown",
   "metadata": {},
   "source": [
    "<font color='cornflowerblue' size = 5>Your turn!</font>\n",
    "\n",
    "Find an interesting Kepler planet, retrieve it's light curve, compute radius and period/semi-major axis, and make a simulation of the system.  \n",
    "\n",
    "[Kepler Search Form](https://archive.stsci.edu/kepler/confirmed_planets/search.php)\n",
    "\n",
    "Tips:\n",
    " - Find ones with deep dips, so you'll know you can see the transit easily.  One good way to do this is to limit the search parameters in the Kepler archive search.  Suggestions:\n",
    "     - In the drop-down menu for  <font color='skyblue'>***User-specified field 1***</font>,  select  <font color='skyblue'>***Planet Radius***</font>.  In the “Field Descriptions” box next to it, type <font color='skyblue'>***>1***</font>  (greater than one; Jupiter’s radius is equal to 1.0).\n",
    "     - In the drop-down menu for  <font color='lightcoral'>***User-specified field 2***</font>,  select  <font color='lightcoral'>***Period***</font>.  In the “Field Descriptions” box, type  <font color='lightcoral'>***<5***</font>  (less than five; the units are in Earth days).\n",
    "     - In the drop-down menu for  <font color='yellowgreen'>***User-specified field 3***</font>,  select  <font color='yellowgreen'>***Transit Depth***</font>.  In the “Field Descriptions” box next to it, type  <font color='yellowgreen'>***>5000***</font>  (greater than 5000).  This is the amount of stellar flux lost in parts per million at the minimum of the planetary transit. What this means is that we want a really deep dip!\n",
    "     - Click  Search.  A list of planets meeting your set criteria will be pulled up, along with a plethora of information about each one. Choose your favorite from the list. \n",
    "    \n",
    " - A system with more than one planet would be neat!\n",
    " - Don't hesitate to do some googling to find some neat Kepler systems that are unique in some way\n",
    "    \n",
    "**IMPORTANT:  Write down the name of your planet somewhere, and its ID (and the Alt Name if it is different). Write down the mass of the host star and the star's radius.**\n",
    "\n",
    "    \n",
    "Use this notebook for your work"
   ]
  },
  {
   "cell_type": "code",
   "execution_count": null,
   "metadata": {},
   "outputs": [],
   "source": []
  }
 ],
 "metadata": {
  "kernelspec": {
   "display_name": "Python 3",
   "language": "python",
   "name": "python3"
  },
  "language_info": {
   "codemirror_mode": {
    "name": "ipython",
    "version": 3
   },
   "file_extension": ".py",
   "mimetype": "text/x-python",
   "name": "python",
   "nbconvert_exporter": "python",
   "pygments_lexer": "ipython3",
   "version": "3.8.5"
  }
 },
 "nbformat": 4,
 "nbformat_minor": 4
}
