{
 "cells": [
  {
   "cell_type": "markdown",
   "metadata": {},
   "source": [
    "<font color='cornflowerblue' size = 5>The Kepler Space Telescope</font>\n",
    "\n",
    "The Kepler Space Telescope is a space-based observatory has been used to discover more exoplanets than any other observatory. The first Kepler results were only published in 2009, just over a decade ago, but the field has exploded with results since then. Kepler has made 1000s of confirmed detections of exoplanets! It has done so by continuously monitoring and collecting light from over 145,000 stars! It has surveyed a region of our Milky Way galaxy to find all of these exoplanets!\n",
    "\n"
   ]
  },
  {
   "cell_type": "markdown",
   "metadata": {},
   "source": [
    "![SegmentLocal](images/kepler.jpg)\n",
    "<br><br>\n",
    "<font color='cornflowerblue' size = 3>How did Kepler make all those discoveries?</font> Take some time to google Kepler (and K2) and take note of what you learned about the spacecraft and the mission.  If you have more time, check out the TESS satellite as well.\n",
    "<br><br><br><br><br><br>"
   ]
  },
  {
   "cell_type": "markdown",
   "metadata": {},
   "source": [
    "<font color='cornflowerblue' size = 5>Kepler Data</font>\n",
    "\n",
    "As you learned, Kepler was a transiting exoplanet hunter.  Let's refresh our memory on how transit searches work, and how we can get properties of the planet from the data Kepler collects.\n",
    "<br><br><br><br><br><br>"
   ]
  },
  {
   "cell_type": "markdown",
   "metadata": {},
   "source": [
    "Here are example light curves of two planets Kepler discovered.  Can you find the planet signal?\n",
    "\n",
    "\n",
    "\n",
    "![SegmentLocal](images/lightcurve1.png)\n",
    "<sub>$M_* = 0.98 M_{\\odot}$</sub>\n",
    "\n",
    "![SegmentLocal](images/lightcurve2.png)\n",
    "<sub>$M_* = 0.81 M_{\\odot}$</sub>\n",
    "\n",
    "<sup>source: Transit Tracks Student Worksheet, the Regents of the University of California</sup>\n",
    "\n",
    "<font color='cornflowerblue' size = 3>Your turn:</font>\n",
    "1. Use the given table (below) to estimate the radius of the given star in solar radii. \n",
    "2. Using the equation that relates the change in flux in the light curve to the planet's radius, calculate the radius of each planet. *Hint: you may want to think about what units you are using to calculate these values.*\n",
    "3. Calculate each planet's orbital period. \n",
    "4. Calculate each planet's semimajor axis. \n",
    "*Let me know if you're having trouble! It might help to write down what you're trying to calculate, what data you have, and the equations you will use. Circle the values you need!*\n",
    "\n",
    "![SegmentLocal](images/stellarRadius.png)\n",
    "<br><br><br><br>\n",
    "<br><br><br><br>"
   ]
  },
  {
   "cell_type": "code",
   "execution_count": null,
   "metadata": {},
   "outputs": [],
   "source": [
    "# do your math here"
   ]
  },
  {
   "cell_type": "markdown",
   "metadata": {},
   "source": [
    "What did you learn about those planets?  What kinds of things does this tell you about these planets?\n",
    "\n",
    "Why might astronomers, and the general public, want to know these things?\n",
    "<br><br><br><br>"
   ]
  },
  {
   "cell_type": "markdown",
   "metadata": {},
   "source": [
    "<font color='cornflowerblue' size=5>Exploring Kepler’s Confirmed Planets Database</font>\n",
    "\n",
    "Now that you have an understanding of stellar light curves and what we can learn from them, let’s explore some archived Kepler data for confirmed planets. To start, visit [this link](https://archive.stsci.edu/kepler/confirmed_planets/search.php). This will bring you to the database search page. \n",
    "\n",
    "In the <font color='skyblue'>***Target Name***</font> field, type <font color='skyblue'>***Kepler-8***</font>, then hit Search.  Take a look at all the information the database gives about this confirmed planet.  What is this planet like?\n",
    "<br>\n",
    "*Note: This part of the activity works best if your browser is maximized*. There are a LOT of steps here, so let's go through them together!"
   ]
  },
  {
   "cell_type": "markdown",
   "metadata": {},
   "source": [
    "<font color='cornflowerblue' size=3>Analyze the light curve:</font>\n",
    "\n",
    "1. Click on the <font color='skyblue'>***Kepler ID***</font> (I recommend right-clicking and opening the link in a new tab, so you don't lose this one!)<br>\n",
    "![SegmentLocal](images/KID.png)<br>\n",
    "\n",
    "2. Click on any of the Dataset Name links, which will show you the Kepler light curve of Kepler-8 b planet! To simplify the plot, click on \"PDCsap Flux\".  ***If your light curve is hard to read, you can click and drag around a portion of the data and it will zoom in!***\n",
    "![SegmentLocal](images/pdcsap.png)<br>\n",
    "\n",
    "3. Save a png file of the light curve by pressing the \"Create png image\" button. <br><br>\n",
    "\n",
    "4. Using the light curve, estimate the radius (in terms of Earth radii) and orbital distance (in AU) of your planet. The star's mass (in solar masses) and radius (in solar radii) are given in the database. Compare your estimates to the values given by the database. Note that the database gives the planet radius in terms of Jupiter radii and period in terms of Earth days. Also, rather than simply giving $a$ (the semimajor axis), the database gives $a/R$,  which is the orbital distance divided by the stellar radius.<br><br>\n",
    "\n",
    "5. <font color='cornflowerblue' size=2>Check your results!:</font> Visit [this link](https://exoplanetarchive.ipac.caltech.edu/) and type in the ***Kepler-8 b***. This will bring up a 'CONFIRMED PLANET OVERVIEW' page. Towards the bottom of the page, click the section called \"Ancillary Information\", then 'Literature Time Series.' Click the little image of a plot next to \"Photometric Light Curve\" to bring up the time series viewer. \n",
    "![SegmentLocal](images/peridogram-viewer.png)<br><br>\n",
    "\n",
    "6. When the page loads, press the tab that reads \"Periodogram\" and click 'Compute Periodogram'. At the bottom of the page that loads, press 'Calculate Periodogram.' The periodogram looks for any periodic (repeating) features in your data, and the largest peak should happen at the time when the largest amount of repetition happens, which in this case happens at the orbital timescale of the transit! <br><br>\n",
    "\n",
    "7. Choose one of the strong peaks from the periodogram (you can click and drag around a peak to zoom in on it). The taller the peak, the better that orbital period fits the data of your planet! On the right there is a \"Table of Peaks\".  The first one should be close to what you computed using the light curve.  See how it compares to your value for orbital period (in days). \n",
    "<br/><br/>\n",
    "<br/><br/>"
   ]
  },
  {
   "cell_type": "markdown",
   "metadata": {},
   "source": [
    "<font color='cornflowerblue' size=5>Simulate the Kepler-8 system!</font>\n",
    "\n",
    "Now let's put it all together and make a simulation of the Kepler-8 system."
   ]
  },
  {
   "cell_type": "code",
   "execution_count": 2,
   "metadata": {},
   "outputs": [],
   "source": [
    "#################################################################\n",
    "# import some packages that will make programming easier for us #\n",
    "#################################################################\n",
    "import rebound\n",
    "import numpy as np\n",
    "from numpy import *\n",
    "import matplotlib.pyplot as plt\n",
    "%matplotlib inline  "
   ]
  },
  {
   "cell_type": "code",
   "execution_count": 3,
   "metadata": {},
   "outputs": [],
   "source": [
    "# Define that function again to set up a new sim:\n",
    "def start_new_sim(star_mass): \n",
    "    ''' \n",
    "    We have to give our function a unique name, \n",
    "    and we can pass parameters to it \n",
    "    '''\n",
    "    sim = rebound.Simulation()\n",
    "    sim.G = 4.*np.pi**2.\n",
    "    sim.units = ('yr', 'AU', 'Msun')\n",
    "    sim.add(m=star_mass)  # Here, we use the variables we passed to the definition to initialize our star\n",
    "    return sim # We always need to return from our definition; here, we want to pass back our simulation"
   ]
  },
  {
   "cell_type": "code",
   "execution_count": null,
   "metadata": {},
   "outputs": [],
   "source": [
    "# Set up a new sim using Kepler-8 star mass (you need to fill it in):\n",
    "sim = start_new_sim()"
   ]
  },
  {
   "cell_type": "markdown",
   "metadata": {},
   "source": [
    "Add Kepler-8 b to the system.  You can find the info about Kepler-8 b.  Remember! mass (M$_p$) has to be in ***solar masses***, semi-major axis (a) in ***AU*** inc (i), omega, Omega, and f have to be in ***radians***.\n",
    "\n",
    "Note:  Depending on the literature the properties are drawn from, you might not see omega, Omega, and f given for a planet. Instead you might see what's called the \"Mean Longitude\", $\\lambda$.  Mean longitude is $\\lambda = \\omega + \\Omega + f$.  Rebound can accept the mean longitude in plance of omega and Omega when entering a new particle.  Just use l = mean longitude.  Mean Longitude also has to be in ***radians***"
   ]
  },
  {
   "cell_type": "code",
   "execution_count": null,
   "metadata": {},
   "outputs": [],
   "source": [
    "# Here is the template for adding a planet:\n",
    "# sim.add(m = mass, a = semi-major axis, e = eccentricity, inc = inclination, omega = a of periapsis, \n",
    "#   Omega = l of Ascending Node, f = True Anomaly, hash='Planet Name')\n",
    "# - OR -\n",
    "# sim.add(m = mass, a = semi-major axis, e = eccentricity, inc = inclination, l = mean longitude,\n",
    "#   hash='Planet Name')\n",
    "\n",
    "sim.add() \n",
    "\n",
    "# Because we've added more than 1 body to our simulation, we need to reset the center\n",
    "# of the simulation before we can run it.\n",
    "sim.move_to_com()"
   ]
  },
  {
   "cell_type": "markdown",
   "metadata": {},
   "source": [
    "Ok, now make a plot and animation just as we did before of the Kepler-8 planetary system!  "
   ]
  },
  {
   "cell_type": "code",
   "execution_count": null,
   "metadata": {},
   "outputs": [],
   "source": []
  },
  {
   "cell_type": "markdown",
   "metadata": {},
   "source": [
    "Challenge:  Add some of the solar system planets to your simulation to see how Kepler-8's sytem compares to ours.  Why do you think it's so different??"
   ]
  },
  {
   "cell_type": "code",
   "execution_count": null,
   "metadata": {},
   "outputs": [],
   "source": []
  },
  {
   "cell_type": "markdown",
   "metadata": {},
   "source": [
    "<sup> Notebook written by [Logan Pearce](logan-pearce.github.io) in 2021</sup> "
   ]
  }
 ],
 "metadata": {
  "kernelspec": {
   "display_name": "Python 3",
   "language": "python",
   "name": "python3"
  },
  "language_info": {
   "codemirror_mode": {
    "name": "ipython",
    "version": 3
   },
   "file_extension": ".py",
   "mimetype": "text/x-python",
   "name": "python",
   "nbconvert_exporter": "python",
   "pygments_lexer": "ipython3",
   "version": "3.7.2"
  }
 },
 "nbformat": 4,
 "nbformat_minor": 4
}
