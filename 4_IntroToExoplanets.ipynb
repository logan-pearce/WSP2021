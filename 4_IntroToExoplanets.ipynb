{
 "cells": [
  {
   "cell_type": "markdown",
   "metadata": {
    "colab_type": "text",
    "id": "vDR6Dp41IHjO"
   },
   "source": [
    "<font color='cornflowerblue' size=5>**Introduction to Exoplanets:**</font>\n",
    "\n",
    "What are exoplanets? **Extrasolar planets**, or exoplanets, are planets that orbit stars that are external to our own solar system! The study of exoplanets covers a wide range of topics, including: how do planetary systems form? what do the atmospheres of exoplanets look like? do exoplanets have clouds? how do the properties of different exoplanet systems impact their detectability? and so many others! \n",
    "\n",
    "In this notebook, we will be learning about some exoplanet detection methods, and talking in more detail about one specific method, the transit method. \n",
    "\n",
    "But first, <font color='cornflowerblue'>how many exoplanets do you think have been discovered?</font>\n",
    "<br/><br/>\n",
    "<br/><br/>\n",
    "<br/><br/>\n",
    "<br/><br/>\n",
    "<br/><br/>\n",
    "<br/><br/>\n",
    "<br/><br/>\n",
    "<br/><br/>\n",
    "\n",
    "\n",
    "The first resKepler results were only published in 2009, just over a decade ago, but the field has exploded with results since then. \n",
    "\n",
    "\n",
    "A resource for good visual depictions of the different exoplanet detection methods can be found [here](https://exoplanets.nasa.gov/alien-worlds/ways-to-find-a-planet/#). Though we will focus on the transit method in this notebook, we'll start by covering 4 other methods. \n"
   ]
  },
  {
   "cell_type": "markdown",
   "metadata": {
    "colab_type": "text",
    "id": "lLnzUebWbI_F"
   },
   "source": [
    "<font color='cornflowerblue' size=4>Method 1: </font>\n",
    "The first exoplanet detection method is direct imaging. This method involves using large telescopes to take an image of the planets as they are in orbit around their stars. \n",
    "\n",
    "This is really *really* hard to do though! *Can you think of a couple reasons why taking pictures of planets might be challenging?*\n",
    "\n",
    "<br/><br/>\n",
    "<br/><br/>\n",
    "<br/><br/>\n",
    "\n"
   ]
  },
  {
   "cell_type": "markdown",
   "metadata": {
    "colab_type": "text",
    "id": "AJgepzrMbJIy"
   },
   "source": [
    "<font color='cornflowerblue' size=4>Method 2: </font>\n",
    "Another exoplanet detection method is the radial velocity method. When planets orbit around their stars, the stars get pulled around by the gravitational influence of the planet, the same way the planet is gravitationally attracted to the star! When stars move around, the color of the light that we detect from the star will change in a repeated way. This is called redshifting (when the star is moving away from us) and blueshifting (when the star is moving towards us)! \n",
    "\n",
    "*What properties of the exoplanet system might make this detection method easier or harder for different systems?*\n",
    "\n",
    "<br/><br/>\n",
    "<br/><br/>\n",
    "<br/><br/>\n"
   ]
  },
  {
   "cell_type": "markdown",
   "metadata": {
    "colab_type": "text",
    "id": "j2A8lgxXdiKu"
   },
   "source": [
    "<font color='cornflowerblue' size=4>Method 3: </font>\n",
    "Astrometry is a detection method that is similar to the radial velocity method, in that the planet will have a gravitational influence on the star that causes the star to wobble around! Rather than observing this effect in the color of the light that we detect, we see this by comparing images of the same star, and seeing if they have moved! This is quite hard to do! Only ONE exoplanet has been discovered using this method! \n",
    "\n",
    "*Can you think of any reason why tracking the motions of these stars for signs of an exoplanet might be hard?*\n",
    "<br/><br/>\n",
    "<br/><br/>\n",
    "<br/><br/>"
   ]
  },
  {
   "cell_type": "markdown",
   "metadata": {
    "colab_type": "text",
    "id": "uW4QV2fCdh_-"
   },
   "source": [
    "<font color='cornflowerblue' size=4>Method 4: </font>\n",
    "Gravitational microlensing uses light from bright background objects (like distant stars) to find planetary systems, and also \"rogue\" planets. When planets (and their stars) pass between the bright object and the Earth, some of the light from the background object gets bent towards the Earth. This focusing of light makes the background object look temporarily brighter, and after seeing these brief flashes, astronomers can use the observations of the event to determine the size of the star! \n",
    "<br/><br/>\n",
    "<br/><br/>\n",
    "<br/><br/>\n"
   ]
  },
  {
   "cell_type": "markdown",
   "metadata": {
    "colab_type": "text",
    "id": "1CjZ_0EYGQyB"
   },
   "source": [
    "___"
   ]
  },
  {
   "cell_type": "markdown",
   "metadata": {
    "colab_type": "text",
    "id": "Xx-c_RDZhzwu"
   },
   "source": [
    "<font color='cornflowerblue' size=5>The Transit Method</font> \n",
    "Method 5: This detection method is responsible for a large majority of exoplanet detections. Over 3/4 of exoplants have been discovered with this method!"
   ]
  },
  {
   "cell_type": "markdown",
   "metadata": {
    "colab_type": "text",
    "id": "r8luvzxaIHjT"
   },
   "source": [
    "<font color='cornflowerblue'>What are they, and what can we learn?</font>"
   ]
  },
  {
   "cell_type": "markdown",
   "metadata": {
    "colab_type": "text",
    "id": "KosLKEO5IHjU"
   },
   "source": [
    "A transit is defined as the passage of one object in front of another, partially blocking it from view. \n",
    "\n",
    "This type of event occurs in our solar system! The transits of Mercury and Venus occur when the planet passes between the Sun and Earth, blocking a small portion of the Sun's light! Mercury completes a transit approximately every seven years! Below is a composit image of the transit of Mercury on May 9, 2016.\n",
    "\n",
    "![mercury](images/mercuryTransit.jpg)\n",
    "<sub>Credit: NASA's Goddard Space Flight Center/SDO/Genna Duberstein</sub>\n",
    "\n",
    "Another type of transit that is observable from Earth are transits of exoplanets in front of their host stars. When exoplanets pass in front of their host stars, they block a small amount of the light that is being emitted from the star from reaching the Earth! This causes the star to appear to dim slightly. \n",
    "\n",
    "This dimming occurs every time that the planet orbits around the star. Thus, the star appears to dim once after every orbital period!\n",
    "\n",
    "Transits are detected by measuring the amount of light we see from a star at many different times. We make plots of the brightness of the star as a function of time, which is known as a light curve, and can hunt for planets with them! "
   ]
  },
  {
   "cell_type": "markdown",
   "metadata": {
    "colab_type": "text",
    "id": "ZSudgRxAIHjW"
   },
   "source": [
    "<font color='cornflowerblue'> What do you think a plot of the brightness of a star versus time looks like for a star with transiting planet?</font>\n",
    "\n",
    "<br/><br/>\n",
    "<br/><br/>\n",
    "<br/><br/>\n",
    "<br/><br/>\n",
    "<br/><br/>\n",
    "\n"
   ]
  },
  {
   "cell_type": "markdown",
   "metadata": {
    "colab_type": "text",
    "id": "FG7W-pqCIHjX"
   },
   "source": [
    "Below is a visualization of an exoplanet transit. Note how the brightness of the star dips as the planet passes in front of it, reaching its minimum when the planet is fully in front of the star.\n",
    "![mercury](images/transitGIF.gif)"
   ]
  },
  {
   "cell_type": "markdown",
   "metadata": {
    "colab_type": "text",
    "id": "JD-NslYVOLQU"
   },
   "source": [
    "If we watched this star over the course of many planetary orbits, we would see many dips in the stars brightness, like we see below! \n",
    "![mercury](images/multipleTransits.png)"
   ]
  },
  {
   "cell_type": "markdown",
   "metadata": {
    "colab_type": "text",
    "id": "VCbWos5fOEPC"
   },
   "source": [
    "Light curves of stars with transiting exoplanets contain a TON of information about the star and the planet! <font color='cornflowerblue'>What types of information do you think can be determined from analysing the star's light curve? *Hint: look at the light curve in the gif above and consider what information the transit depth and separation between dips might tell you.*</font>\n",
    "<br/><br/>\n",
    "<br/><br/>\n",
    "<br/><br/>\n",
    "<br/><br/>"
   ]
  },
  {
   "cell_type": "markdown",
   "metadata": {
    "colab_type": "text",
    "id": "IaIHh2xKIHje"
   },
   "source": [
    "Imagine there are two identical planets orbiting around two identical stars. One planet's orbital period is twice as long as the other. <font color='cornflowerblue'>How would the light curves look different for each of these systems? How would they look the same?</font>\n",
    "\n",
    "\n",
    "<br/><br/>\n",
    "<br/><br/>\n",
    "<br/><br/>\n",
    "<br/><br/>\n",
    "<br/><br/>"
   ]
  },
  {
   "cell_type": "markdown",
   "metadata": {
    "colab_type": "text",
    "id": "0rhfHlWsIHjg"
   },
   "source": [
    "Imagine that there are two planets, each orbiting around an identical star. This time, the planets have the same orbital period, but one planet is twice as large as the other. <font color='cornflowerblue'>What is the same about each light curve? What is different?</font>\n",
    "\n",
    "<br/><br/>\n",
    "<br/><br/>\n",
    "<br/><br/>\n",
    "<br/><br/>\n",
    "<br/><br/>"
   ]
  },
  {
   "cell_type": "markdown",
   "metadata": {
    "colab_type": "text",
    "id": "ABUA4YmSIHjh"
   },
   "source": [
    "Let's take a look at an exoplanet transit simulator that you can find [here](http://astro.unl.edu/naap/esp/animations/transitSimulator.html). Note that in order to use the transit simulator, your browser needs to support Adobe Flash.\n",
    "\n",
    "We can play around with this transit simulator for a while and see how different orbital parameters, planet properties, and star properties, affect the light curves! \n",
    "\n",
    "*Note: Flux is the total energy emitted by the star that reaches each unit area of a detector (such as your eyes) every second. Normalized flux means that the flux received from the star has been multiplied by some factor so that the maximum flux (the flux from the star it is not being transited by the planet) is equal to 1. You can think of the y-axis as a fraction telling you how much of the star’s total flux is reaching the Earth at a given moment in time.*\n",
    "\n",
    "<br/><br/>\n",
    "<br/><br/>\n",
    "<br/><br/>\n",
    "<br/><br/>"
   ]
  },
  {
   "cell_type": "markdown",
   "metadata": {
    "colab_type": "text",
    "id": "0qvX8qrDIHjk"
   },
   "source": [
    "___"
   ]
  },
  {
   "cell_type": "markdown",
   "metadata": {
    "colab_type": "text",
    "id": "j7hGoTKkIHjm"
   },
   "source": [
    "<font color='cornflowerblue' size = 5>Analyzing Light Curves</font>"
   ]
  },
  {
   "cell_type": "markdown",
   "metadata": {
    "colab_type": "text",
    "id": "XJyndqSxIHjo"
   },
   "source": [
    "<font color='cornflowerblue'>Planet and stellar radius</font>\n",
    "\n",
    "Using the transit simulator, we saw that the change in the brightness of a star while an exoplanet transit is occuring is directly related to the size of the planet relative to the size of the star. \n",
    "\n",
    "In terms of the measured values, this is written as:\n",
    "$$\\frac{\\Delta F}{F}  = \\frac{R_{p}^2}{R_{*}^2} $$ \n",
    "where $\\Delta F$ is the change in the flux, $F$ is the total flux when the transit is not occuring, and $R_p, R_*$ are the radius of the planet and the star respectively.\n",
    "\n",
    "When a planet transits a star, the amount of light that is blocked out is propoertional to the area of the circle of light that is blocked (in this case a circle with radius $R_p$). The total flux is proportional to the area of the star (a circle with radius $R_*$), which is how we arrived at the equation above! \n",
    "<br/><br/>\n",
    "<br/><br/>"
   ]
  },
  {
   "cell_type": "markdown",
   "metadata": {
    "colab_type": "text",
    "id": "G_WsUozHIHjo"
   },
   "source": [
    "<font color='cornflowerblue'> Orbital period and semi-major axis</font>\n",
    "\n",
    "The orbital period of the planet can be determined using the separation between transits as seen on a light curve. Kepler's third law of planetary motion states that the orbital period is related to the star's semi-major axis, and thus we can determine how far away the planet is from it's host star just by measuring the orbital period!\n",
    "\n",
    "A planet that is very close to its star with have a very small orbital period. This relationship is given by the following espression:\n",
    "$$P^2  = \\frac{4 \\pi^2 a^3}{G M_*}$$\n",
    "\n",
    "where $G$ is the gravitational constant, $M_*$ is the mass of the star, and $a$ is the semi-major axis of the planet.\n",
    "\n",
    "<br/><br/>\n",
    "We can solve this equation for the semimajor axis, and we get $$a=(M_* P^2)^{\\frac{1}{3}}.$$ *Note: this looks more simple than above because $G\\approx 4\\pi^2$ in this simulation.*\n",
    "<br/><br/>\n",
    "<br/><br/>\n",
    "<br/><br/>\n",
    "<br/><br/>"
   ]
  },
  {
   "cell_type": "markdown",
   "metadata": {
    "colab_type": "text",
    "id": "CNXOhcwwJuB9"
   },
   "source": [
    "___"
   ]
  },
  {
   "cell_type": "markdown",
   "metadata": {
    "colab_type": "text",
    "id": "imfyvMMTIHjr"
   },
   "source": [
    "<font color='cornflowerblue' size = 5>The Kepler Space Telescope</font>\n",
    "\n",
    "The Kepler Space Telescope is a space-based observatory has been used to discover more exoplanets than any other observatory. The first Kepler results were only published in 2009, just over a decade ago, but the field has exploded with results since then. As of today, Kepler has made over 2000 confirmed detections of exoplanets! It has done so by continuously monitoring and collecting light from over 145,000 stars! It has surveyed a region of our Milky Way galaxy to find all of these exoplanets!\n",
    "\n"
   ]
  },
  {
   "cell_type": "markdown",
   "metadata": {
    "colab_type": "text",
    "id": "0om_36KSIHjr"
   },
   "source": [
    "The following are plots of light curves from the Kepler Space Telescope.\n",
    "\n",
    "1. Use the given table (below) to estimate the radius of the given star in solar radii. \n",
    "2. Using the equation that relates the change in flux in the light curve to the planet's radius, calculate the radius of each planet. *Hint: you may want to think about what units you are using to calculate these values.*\n",
    "3. Calculate each planet's orbital period. \n",
    "4. Calculate each planet's semimajor axis. \n",
    "*Let me know if you're having trouble! It might help to write down what you're trying to calculate, what data you have, and the equations you will use. Circle the values you need!*\n",
    "\n",
    "![SegmentLocal](images/stellarRadius.png)\n",
    "\n",
    "![SegmentLocal](images/lightcurve1.png)\n",
    "<sub>$M_* = 0.98 M_{\\odot}$</sub>\n",
    "\n",
    "![SegmentLocal](images/lightcurve2.png)\n",
    "<sub>$M_* = 0.81 M_{\\odot}$</sub>\n",
    "\n",
    "<sup>source: Transit Tracks Student Worksheet, the Regents of the University of California</sup>\n",
    "<br><br><br><br>\n",
    "<br><br><br><br>"
   ]
  },
  {
   "cell_type": "markdown",
   "metadata": {
    "colab_type": "text",
    "id": "8511MVcxIHjs"
   },
   "source": [
    "Above, we calculated the semimajor axis and sizes of these exoplanets. Why might astronomers, and the general public, want to know these things?\n",
    "<br><br><br><br>"
   ]
  },
  {
   "cell_type": "markdown",
   "metadata": {
    "colab_type": "text",
    "id": "QSvaf21tIHjx"
   },
   "source": [
    "___"
   ]
  },
  {
   "cell_type": "markdown",
   "metadata": {
    "colab_type": "text",
    "id": "0_rPRhcMIHjy"
   },
   "source": [
    "<font color='cornflowerblue' size=5>Exploring Kepler’s Confirmed Planets Database</font>\n",
    "\n",
    "Now that you have an understanding of stellar light curves and what we can learn from them, let’s explore some archived Kepler data for confirmed planets. To start, visit [this link](https://archive.stsci.edu/kepler/confirmed_planets/search.php). This will bring you to the database search page. We are going to set some parameters in order to limit our search to large, short period planets with deep transit depths (which, as you discovered earlier, are the easiest planets to detect with this method). In order to do so, take the following steps: \n",
    "*Note: This part of the activity works best if your browser is maximized*. There are a LOT of steps here, so let's go through them together!"
   ]
  },
  {
   "cell_type": "markdown",
   "metadata": {
    "colab_type": "text",
    "id": "sfwi5yu6IHjz"
   },
   "source": [
    "1. \tIn the drop-down menu for  <font color='skyblue'>***User-specified field 1***</font>,  select  <font color='skyblue'>***Planet Radius***</font>.  In the “Field Descriptions” box next to it, type <font color='skyblue'>***>1***</font>  (greater than one; Jupiter’s radius is equal to 1.0).\n",
    "\n",
    "2. \tIn the drop-down menu for  <font color='lightcoral'>***User-specified field 2***</font>,  select  <font color='lightcoral'>***Period***</font>.  In the “Field Descriptions” box, type  <font color='lightcoral'>***<5***</font>  (less than five; the units are in Earth days).\n",
    "\n",
    "3. \tIn the drop-down menu for  <font color='yellowgreen'>***User-specified field 3***</font>,  select  <font color='yellowgreen'>***Transit Depth***</font>.  In the “Field Descriptions” box next to it, type  <font color='yellowgreen'>***>5000***</font>  (greater than 5000).  This is the amount of stellar flux lost in parts per million at the minimum of the planetary transit. What this means is that we want a really deep dip!\n",
    "\n",
    "4. \tClick  Search.  A list of planets meeting your set criteria will be pulled up, along with a plethora of information about each one. Choose your favorite from the list. **IMPORTANT:  Write down the name of your planet somewhere, and its ID (and the Alt Name if it is different). Write down the mass of the host star and the star's radius.**\n",
    "\n",
    "Great you're done! You've officially identified an exoplanet that is really large, very close to its host star, and has really deep transit dips. Now, how do we find the light curve data for this planet? \n"
   ]
  },
  {
   "cell_type": "markdown",
   "metadata": {
    "colab_type": "text",
    "id": "RtLf0S8JP46y"
   },
   "source": [
    "Next, we need to use a different database to look at the lightcurve data!\n",
    "\n",
    "\n",
    "1. Copy the Kepler ID of your chosen planet. In a new tab (be sure to **not** close the tab with the database site!), go [here](http://archive.stsci.edu/kepler/data_search/search.php).\n",
    "Type or paste the ***Kepler ID*** of your planet into the ID box, and press search.\n",
    "\n",
    "2. Click on any of the Dataset Name links, which will show you the light curve of your planet! ***If your light curve is hard to read, you can click and drag around a portion of the data and it will zoom in!***\n",
    "\n",
    "3. You can save a png file of your light curve by pressing the \"Create png image\" button. \n",
    "\n",
    "4. Using your light curve, estimate the radius (in terms of Earth radii) and orbital distance (in AU) of your planet. The mass (in solar masses) and radius (in solar radii) of the star are given in the database. Compare your estimates to the values given by the database. Note that the database gives the planet radius in terms of Jupiter radii and period in terms of Earth days. Also, rather than simply giving $a$ (the semimajor axis), the database gives $a/R$,  which is the orbital distance divided by the stellar radius.\n",
    "\n",
    "5. Visit [this link](https://exoplanetarchive.ipac.caltech.edu/) and type in the ***Planet Name*** of your planet! This will bring up a 'CONFIRMED PLANET OVERVIEW' page. Towards the bottom of the page, find the box labeled 'Literature Time Series.' Click the link that says 'Time Series Viewer.' \n",
    "\n",
    "6. When the page loads, press the tab that reads \"Periodogram\" and click 'Compute Periodogram'. At the bottom of the page that loads, press 'Calculate Periodogram.' The periodogram looks for any periodic (repeating) features in your data, and the largest peak should happen at the time when the largest amount of repetition happens, which in this case happens at the orbital timescale of the transit! \n",
    "\n",
    "7. Choose one of the strong peaks from the periodogram (you can click and drag around a peak to zoom in on it). The taller the peak, the better that orbital period fits the data of your planet! See how it compares to the value from the database. \n",
    "<br/><br/>\n",
    "<br/><br/>"
   ]
  },
  {
   "cell_type": "markdown",
   "metadata": {
    "colab_type": "text",
    "id": "dkDitXrDIHj2"
   },
   "source": [
    "___"
   ]
  },
  {
   "cell_type": "markdown",
   "metadata": {
    "colab_type": "text",
    "id": "4GMInlctIHj4"
   },
   "source": [
    "<font color='cornflowerblue' size=5>Analyzing Published Data</font>\n",
    "\n",
    "The figure below was taken from a recent publication by [Crossfield et al. (2017)](http://iopscience.iop.org/article/10.3847/1538-3881/aa6e01/pdf ) in the Astronomical Journal.  Can you find the planet? Do you see anything else? If so, what do you think this implies?  \n",
    "<br><br><br><br><br><br>\n",
    "\n",
    "![SegmentLocal](images/lightcurve3.png)\n",
    "\n",
    "<br/><br/>\n",
    "<br/><br/>\n",
    "<br/><br/>\n",
    "<br/><br/>\n",
    "<br/><br/>\n",
    "<br/><br/>\n",
    "<br/><br/>\n",
    "<br/><br/>\n",
    "It turns out...\n",
    "<br/><br/>\n",
    "<br/><br/>\n",
    "<br/><br/>\n",
    "<br/><br/>\n",
    "<br/><br/>\n",
    "<br/><br/>\n",
    "<br/><br/>\n",
    "<br/><br/>\n",
    "![SegmentLocal](images/lightcurve4.png)\n",
    "<br><br><br><br><br>\n",
    "Surprise! There are actually *two* planets orbiting this star! The vertical ticks show the location of each planet’s transit. Multiple planet systems are surprisingly common in Kepler data. These systems tend to be compact and close to their host star, with planets less massive than Jupiter, leading to stable orbits, rendering them easier for Kepler to detect.  \n",
    "<br/><br/>\n",
    "<br/><br/>\n"
   ]
  },
  {
   "cell_type": "markdown",
   "metadata": {
    "colab_type": "text",
    "id": "QY0j7CXsTxno"
   },
   "source": [
    "Congratulations, you're officially an exoplanet scientist! "
   ]
  },
  {
   "cell_type": "markdown",
   "metadata": {
    "colab_type": "text",
    "id": "gzf14f3qIHj7"
   },
   "source": [
    "___"
   ]
  },
  {
   "cell_type": "markdown",
   "metadata": {
    "colab_type": "text",
    "id": "QfD-3KwXIHj9"
   },
   "source": [
    "<sub>Written by Katie Chamberlain 2019 and 2020. Adapted from exercise by Christine O'Donnell.</sub>"
   ]
  }
 ],
 "metadata": {
  "colab": {
   "collapsed_sections": [],
   "name": "5_IntroToExoplanets.ipynb",
   "provenance": []
  },
  "kernelspec": {
   "display_name": "Python 3",
   "language": "python",
   "name": "python3"
  },
  "language_info": {
   "codemirror_mode": {
    "name": "ipython",
    "version": 3
   },
   "file_extension": ".py",
   "mimetype": "text/x-python",
   "name": "python",
   "nbconvert_exporter": "python",
   "pygments_lexer": "ipython3",
   "version": "3.8.5"
  },
  "toc": {
   "base_numbering": 1,
   "nav_menu": {},
   "number_sections": true,
   "sideBar": true,
   "skip_h1_title": false,
   "title_cell": "Table of Contents",
   "title_sidebar": "Contents",
   "toc_cell": false,
   "toc_position": {},
   "toc_section_display": true,
   "toc_window_display": false
  }
 },
 "nbformat": 4,
 "nbformat_minor": 1
}
